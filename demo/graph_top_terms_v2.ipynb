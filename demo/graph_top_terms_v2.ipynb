{
 "cells": [
  {
   "cell_type": "code",
   "execution_count": 10,
   "metadata": {
    "collapsed": false
   },
   "outputs": [
    {
     "name": "stdout",
     "output_type": "stream",
     "text": [
      "(3891, 4303)\n"
     ]
    }
   ],
   "source": [
    "from scipy.io import loadmat\n",
    "from coclust.CoclustMod import CoclustMod\n",
    "import numpy as np\n",
    "from sklearn.preprocessing import normalize\n",
    "\n",
    "# Retrieve the CSTR document-term matrix from a matlab file\n",
    "file_name = \"classic3.mat\"\n",
    "matlab_dict = loadmat(file_name)\n",
    "\n",
    "X = matlab_dict['A']\n",
    "\n",
    "model = CoclustMod(n_clusters=3, n_init=1, random_state=0)\n",
    "model.fit(X)\n",
    "\n",
    "terms = [str(x[0][0]) for x in matlab_dict['ms']]\n",
    "\n",
    "print(X.shape)\n"
   ]
  },
  {
   "cell_type": "code",
   "execution_count": 61,
   "metadata": {
    "collapsed": true
   },
   "outputs": [],
   "source": [
    "def get_graph(X, model, terms, n_cluster, n_top_terms=10, n_neighbors=2):\n",
    "    \n",
    "    # The structure to be returned\n",
    "    graph = {\"nodes\": [], \"links\": []}\n",
    "    \n",
    "    # get submatrix and local kist of terms\n",
    "    row_indices, col_indices = model.get_indices(n_cluster)\n",
    "    cluster = model.get_submatrix(X, n_cluster)\n",
    "    terms = np.array(terms)[col_indices]\n",
    "    \n",
    "    # identify most frequent words\n",
    "    p = cluster.sum(0)  ; t = p.getA().flatten()\n",
    "    top_term_indices = t.argsort()[::-1][:n_top_terms]\n",
    "    \n",
    "    # create tt sim matrix\n",
    "    cluster_norm=normalize(cluster, norm='l2', axis=0, copy=True)\n",
    "    sim = cluster_norm.T * cluster_norm\n",
    "    \n",
    "    # to be able to compute the final index of a neighbor which is also a top term \n",
    "    d={t : i for i,t in enumerate(top_term_indices)}\n",
    "    \n",
    "    # identify best neighbors of frequent terms\n",
    "    pointed_by=dict()\n",
    "    graph = {\"nodes\": [], \"links\": []}\n",
    "    all_neighbors=set()\n",
    "    links=[]\n",
    "    for idx_tt , t in enumerate(top_term_indices) :\n",
    "        print(\"== top term\" , idx_tt, t)\n",
    "        best_neighbors=np.argsort(sim.toarray()[t])[::-1][:n_neighbors]\n",
    "        print(best_neighbors)\n",
    "        print()\n",
    "        for n in best_neighbors :\n",
    "            #if  terms[dico_tt[n]].lower() in stopwords: continue\n",
    "            if t == n : continue\n",
    "            if n in top_term_indices and t in pointed_by.get(n,[]) : # t was already pointed by n\n",
    "                continue\n",
    "            if n in top_term_indices :\n",
    "                pointed_by.setdefault(t,[]).append(n)  # n will be able to check that is has been pointed by t\n",
    "            else : # a \"pure\" neighbor\n",
    "                all_neighbors.add(n)  \n",
    "            if n in top_term_indices : # n is a (not yet handled) top term. Lookup in dictionary to find the d3 index.\n",
    "                                       # Also record original indices using couples.\n",
    "                links.append(( (idx_tt,t),( d[n],n) ) )\n",
    "            else :  # n is a pure neighbor. Compute its d3 index by an addition\n",
    "                links.append(( (idx_tt,t), (len(top_term_indices) + len(all_neighbors),n) )) # use indices suitable for d3 links\n",
    "    print(\"top term indices\")\n",
    "    print(top_term_indices)\n",
    "    print(\"true neighbors\")\n",
    "    print(all_neighbors)\n",
    "    print()\n",
    "    #all_neighbors=all_neighbors.difference(top_terms_indices) # a top term may point to a top term \n",
    "        \n",
    "    for top_term in top_term_indices:\n",
    "        graph[\"nodes\"].append({\"name\": terms[top_term], \"group\": 0})\n",
    "    \n",
    "    for neighbor in all_neighbors:\n",
    "        graph[\"nodes\"].append({\"name\": terms[neighbor], \"group\": 1})\n",
    "    \n",
    "    for a, b in links :\n",
    "        graph[\"links\"].append( {\"source\": a[0], \"target\": b[0], \"value\": sim[a[1], b[1]]} )  \n",
    "    return graph\n"
   ]
  },
  {
   "cell_type": "code",
   "execution_count": 69,
   "metadata": {
    "collapsed": false
   },
   "outputs": [
    {
     "name": "stdout",
     "output_type": "stream",
     "text": [
      "== top term 0 753\n",
      "[ 753 1577  386]\n",
      "\n",
      "== top term 1 413\n",
      "[ 413 1504   64]\n",
      "\n",
      "== top term 2 1577\n",
      "[1577  753  994]\n",
      "\n",
      "== top term 3 1081\n",
      "[1081  340 1169]\n",
      "\n",
      "== top term 4 1504\n",
      "[1504  413 1145]\n",
      "\n",
      "top term indices\n",
      "[ 753  413 1577 1081 1504]\n",
      "true neighbors\n",
      "{64, 386, 994, 1169, 340, 1145}\n",
      "\n",
      "\n",
      "{'links': [{'target': 2, 'source': 0, 'value': 1}, {'target': 6, 'source': 0, 'value': 1}, {'target': 4, 'source': 1, 'value': 1}, {'target': 7, 'source': 1, 'value': 1}, {'target': 8, 'source': 2, 'value': 1}, {'target': 9, 'source': 3, 'value': 1}, {'target': 10, 'source': 3, 'value': 1}, {'target': 11, 'source': 4, 'value': 1}], 'nodes': [{'group': 0, 'name': 'library'}, {'group': 0, 'name': 'system'}, {'group': 0, 'name': 'libraries'}, {'group': 0, 'name': 'research'}, {'group': 0, 'name': 'retrieval'}, {'group': 1, 'name': 'line'}, {'group': 1, 'name': 'public'}, {'group': 1, 'name': 'academic'}, {'group': 1, 'name': 'development'}, {'group': 1, 'name': 'study'}, {'group': 1, 'name': 'document'}]}\n"
     ]
    }
   ],
   "source": [
    "graph = get_graph(X, model, terms, 0, 5,3)  # 0,3,2\n",
    "print()\n",
    "print(graph)\n"
   ]
  },
  {
   "cell_type": "code",
   "execution_count": 64,
   "metadata": {
    "collapsed": false
   },
   "outputs": [
    {
     "data": {
      "application/javascript": [
       "require.config({\n",
       "  paths: {\n",
       "      d3: '//cdnjs.cloudflare.com/ajax/libs/d3/3.4.8/d3.min'\n",
       "  }\n",
       "});"
      ],
      "text/plain": [
       "<IPython.core.display.Javascript object>"
      ]
     },
     "metadata": {},
     "output_type": "display_data"
    }
   ],
   "source": [
    "%%javascript\n",
    "require.config({\n",
    "  paths: {\n",
    "      d3: '//cdnjs.cloudflare.com/ajax/libs/d3/3.4.8/d3.min'\n",
    "  }\n",
    "});"
   ]
  },
  {
   "cell_type": "code",
   "execution_count": 66,
   "metadata": {
    "collapsed": false
   },
   "outputs": [
    {
     "data": {
      "text/html": [
       "\n",
       "<style>\n",
       ".node_circle {\n",
       "  stroke: #fff;\n",
       "  stroke-width: 1.5px;\n",
       "}\n",
       "\n",
       ".link {\n",
       "  stroke: #999;\n",
       "  stroke-opacity: .6;\n",
       "}\n",
       "</style>\n"
      ],
      "text/plain": [
       "<IPython.core.display.HTML object>"
      ]
     },
     "execution_count": 66,
     "metadata": {},
     "output_type": "execute_result"
    }
   ],
   "source": [
    "from IPython.display import HTML\n",
    "HTML(\"\"\"\n",
    "<style>\n",
    ".node_circle {\n",
    "  stroke: #fff;\n",
    "  stroke-width: 1.5px;\n",
    "}\n",
    "\n",
    ".link {\n",
    "  stroke: #999;\n",
    "  stroke-opacity: .6;\n",
    "}\n",
    "</style>\n",
    "\"\"\")"
   ]
  },
  {
   "cell_type": "code",
   "execution_count": 67,
   "metadata": {
    "collapsed": false
   },
   "outputs": [
    {
     "data": {
      "application/javascript": [
       "\n",
       "           window.graph={'links': [{'target': 2, 'source': 0, 'value': 1}, {'target': 4, 'source': 1, 'value': 1}], 'nodes': [{'group': 0, 'name': 'library'}, {'group': 0, 'name': 'system'}, {'group': 0, 'name': 'libraries'}, {'group': 1, 'name': 'retrieval'}]};\n",
       "           "
      ],
      "text/plain": [
       "<IPython.core.display.Javascript object>"
      ]
     },
     "execution_count": 67,
     "metadata": {},
     "output_type": "execute_result"
    }
   ],
   "source": [
    "from IPython.display import Javascript\n",
    "#runs arbitrary javascript, client-side\n",
    "Javascript(\"\"\"\n",
    "           window.graph={};\n",
    "           \"\"\".format(graph))"
   ]
  },
  {
   "cell_type": "code",
   "execution_count": 70,
   "metadata": {
    "collapsed": false
   },
   "outputs": [
    {
     "data": {
      "application/javascript": [
       "require(['d3'], function(d3){\n",
       "  //a weird idempotency thing\n",
       "  $(\"#chart1\").remove();\n",
       "  //create canvas\n",
       "  element.append(\"<div id='chart1'></div>\");\n",
       "  $(\"#chart1\").width(\"1160px\");\n",
       "  $(\"#chart1\").height(\"800px\");        \n",
       "  var margin = {top: 20, right: 20, bottom: 30, left: 40};\n",
       "  var width = 1280 - margin.left - margin.right;\n",
       "  var height = 800 - margin.top - margin.bottom;\n",
       "  var svg = d3.select(\"#chart1\").append(\"svg\")\n",
       "    .style(\"position\", \"relative\")\n",
       "    .style(\"max-width\", \"960px\")\n",
       "    .attr(\"width\", width + \"px\")\n",
       "    .attr(\"height\", (height + 50) + \"px\")\n",
       "    .append(\"g\")\n",
       "    .attr(\"transform\", \"translate(\" + margin.left + \",\" + margin.top + \")\");\n",
       "\n",
       "var color = d3.scale.category20();\n",
       "\n",
       "var force = d3.layout.force()\n",
       "    .charge(-800)\n",
       "    .linkDistance(400)\n",
       "    .size([width, height]);\n",
       "\n",
       "var graph = window.graph;\n",
       "  force\n",
       "      .nodes(graph.nodes)\n",
       "      .links(graph.links)\n",
       "      .start();\n",
       "\n",
       "  var link = svg.selectAll(\".link\")\n",
       "      .data(graph.links)\n",
       "      .enter().append(\"line\")\n",
       "      .attr(\"class\", \"link\")\n",
       "      .style(\"stroke\", \"#999;\")\n",
       "      .style(\"stroke-width\", function(d) { return Math.sqrt(d.value); });\n",
       "\n",
       "  var node = svg.selectAll(\".node\")\n",
       "      .data(graph.nodes)\n",
       "      .enter().append(\"g\")\n",
       "      .attr(\"class\", \"node\")\n",
       "      .call(force.drag);\n",
       "    \n",
       "  node.append(\"circle\")\n",
       "      .attr(\"class\", \"node_circle\")\n",
       "      .attr(\"r\", 8)\n",
       "      .style(\"fill\", function(d) { return color(d.group); });\n",
       "\n",
       "  node.append(\"text\")\n",
       "      .attr(\"class\", \"node_text\")\n",
       "      .attr(\"dx\", 12)\n",
       "      .attr(\"dy\", \".35em\")\n",
       "      .text(function(d) { return d.name });\n",
       "\n",
       "  node.append(\"title\")\n",
       "      .text(function(d) { return d.name; });\n",
       "\n",
       "  var node_text = svg.selectAll(\".node_text\");\n",
       "  var node_circle = svg.selectAll(\".node_circle\");\n",
       "    \n",
       "  force.on(\"tick\", function() {\n",
       "    link.attr(\"x1\", function(d) { return d.source.x; })\n",
       "        .attr(\"y1\", function(d) { return d.source.y; })\n",
       "        .attr(\"x2\", function(d) { return d.target.x; })\n",
       "        .attr(\"y2\", function(d) { return d.target.y; });\n",
       "\n",
       "    node_circle.attr(\"cx\", function(d) { return d.x; })\n",
       "        .attr(\"cy\", function(d) { return d.y; });\n",
       "      \n",
       "    node_text.attr(\"x\", function(d) { return d.x; })\n",
       "        .attr(\"y\", function(d) { return d.y; });\n",
       "  });\n",
       "\n",
       "\n",
       "});"
      ],
      "text/plain": [
       "<IPython.core.display.Javascript object>"
      ]
     },
     "metadata": {},
     "output_type": "display_data"
    }
   ],
   "source": [
    "%%javascript\n",
    "require(['d3'], function(d3){\n",
    "  //a weird idempotency thing\n",
    "  $(\"#chart1\").remove();\n",
    "  //create canvas\n",
    "  element.append(\"<div id='chart1'></div>\");\n",
    "  $(\"#chart1\").width(\"1160px\");\n",
    "  $(\"#chart1\").height(\"800px\");        \n",
    "  var margin = {top: 20, right: 20, bottom: 30, left: 40};\n",
    "  var width = 1280 - margin.left - margin.right;\n",
    "  var height = 800 - margin.top - margin.bottom;\n",
    "  var svg = d3.select(\"#chart1\").append(\"svg\")\n",
    "    .style(\"position\", \"relative\")\n",
    "    .style(\"max-width\", \"960px\")\n",
    "    .attr(\"width\", width + \"px\")\n",
    "    .attr(\"height\", (height + 50) + \"px\")\n",
    "    .append(\"g\")\n",
    "    .attr(\"transform\", \"translate(\" + margin.left + \",\" + margin.top + \")\");\n",
    "\n",
    "var color = d3.scale.category20();\n",
    "\n",
    "var force = d3.layout.force()\n",
    "    .charge(-800)\n",
    "    .linkDistance(400)\n",
    "    .size([width, height]);\n",
    "\n",
    "var graph = window.graph;\n",
    "  force\n",
    "      .nodes(graph.nodes)\n",
    "      .links(graph.links)\n",
    "      .start();\n",
    "\n",
    "  var link = svg.selectAll(\".link\")\n",
    "      .data(graph.links)\n",
    "      .enter().append(\"line\")\n",
    "      .attr(\"class\", \"link\")\n",
    "      .style(\"stroke\", \"#999;\")\n",
    "      .style(\"stroke-width\", function(d) { return Math.sqrt(d.value); });\n",
    "\n",
    "  var node = svg.selectAll(\".node\")\n",
    "      .data(graph.nodes)\n",
    "      .enter().append(\"g\")\n",
    "      .attr(\"class\", \"node\")\n",
    "      .call(force.drag);\n",
    "    \n",
    "  node.append(\"circle\")\n",
    "      .attr(\"class\", \"node_circle\")\n",
    "      .attr(\"r\", 8)\n",
    "      .style(\"fill\", function(d) { return color(d.group); });\n",
    "\n",
    "  node.append(\"text\")\n",
    "      .attr(\"class\", \"node_text\")\n",
    "      .attr(\"dx\", 12)\n",
    "      .attr(\"dy\", \".35em\")\n",
    "      .text(function(d) { return d.name });\n",
    "\n",
    "  node.append(\"title\")\n",
    "      .text(function(d) { return d.name; });\n",
    "\n",
    "  var node_text = svg.selectAll(\".node_text\");\n",
    "  var node_circle = svg.selectAll(\".node_circle\");\n",
    "    \n",
    "  force.on(\"tick\", function() {\n",
    "    link.attr(\"x1\", function(d) { return d.source.x; })\n",
    "        .attr(\"y1\", function(d) { return d.source.y; })\n",
    "        .attr(\"x2\", function(d) { return d.target.x; })\n",
    "        .attr(\"y2\", function(d) { return d.target.y; });\n",
    "\n",
    "    node_circle.attr(\"cx\", function(d) { return d.x; })\n",
    "        .attr(\"cy\", function(d) { return d.y; });\n",
    "      \n",
    "    node_text.attr(\"x\", function(d) { return d.x; })\n",
    "        .attr(\"y\", function(d) { return d.y; });\n",
    "  });\n",
    "\n",
    "\n",
    "});"
   ]
  },
  {
   "cell_type": "code",
   "execution_count": null,
   "metadata": {
    "collapsed": true
   },
   "outputs": [],
   "source": []
  }
 ],
 "metadata": {
  "kernelspec": {
   "display_name": "Python 3",
   "language": "python",
   "name": "python3"
  },
  "language_info": {
   "codemirror_mode": {
    "name": "ipython",
    "version": 3
   },
   "file_extension": ".py",
   "mimetype": "text/x-python",
   "name": "python",
   "nbconvert_exporter": "python",
   "pygments_lexer": "ipython3",
   "version": "3.4.4"
  }
 },
 "nbformat": 4,
 "nbformat_minor": 0
}
