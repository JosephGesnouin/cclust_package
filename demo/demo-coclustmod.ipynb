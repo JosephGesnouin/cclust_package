{
 "cells": [
  {
   "cell_type": "code",
   "execution_count": 10,
   "metadata": {
    "collapsed": false
   },
   "outputs": [
    {
     "name": "stdout",
     "output_type": "stream",
     "text": [
      "('MODULARITY:', 0.40894990145704846)\n"
     ]
    },
    {
     "data": {
      "image/png": "[encoded data removed]",
      "text/plain": [
       "<matplotlib.figure.Figure at 0x11dc3f610>"
      ]
     },
     "metadata": {},
     "output_type": "display_data"
    },
    {
     "name": "stdout",
     "output_type": "stream",
     "text": [
      "('NMI:', 0.7405710865123265)\n",
      "1033\n",
      "1460\n",
      "1398\n"
     ]
    },
    {
     "data": {
      "image/png": "[encoded data removed]",
      "text/plain": [
       "<matplotlib.figure.Figure at 0x10ca28a50>"
      ]
     },
     "metadata": {},
     "output_type": "display_data"
    },
    {
     "data": {
      "image/png": "[encoded data removed]",
      "text/plain": [
       "<matplotlib.figure.Figure at 0x1262ac0d0>"
      ]
     },
     "metadata": {},
     "output_type": "display_data"
    }
   ],
   "source": [
    "%matplotlib inline\n",
    "\n",
    "import matplotlib.pyplot as plt\n",
    "from scipy.io import loadmat\n",
    "from sklearn.metrics import confusion_matrix\n",
    "from sklearn.metrics.cluster import normalized_mutual_info_score as nmi\n",
    "from coclust.CoclustMod import CoclustMod\n",
    "from coclust.utils.evaluation import (plot_confusion_matrix,\n",
    "                                      plot_top_terms,\n",
    "                                      get_graph)\n",
    "\n",
    "# Retrieve the Classic3  document-term matrix from a matlab file\n",
    "file_name = \"../datasets/classic3.mat\"\n",
    "matlab_dict = loadmat(file_name)\n",
    "\n",
    "X = matlab_dict['A']\n",
    "\n",
    "# Create and fit a model with 3 co-clusters\n",
    "model = CoclustMod(n_clusters=3, random_state=0)\n",
    "model.fit(X)\n",
    "\n",
    "# Plot modularities\n",
    "print(\"MODULARITY:\", model.modularity)\n",
    "plt.plot(model.modularities, marker='o')\n",
    "plt.ylabel('Modularities')\n",
    "plt.xlabel('Iterations')\n",
    "plt.show()\n",
    "\n",
    "\n",
    "# plot cm\n",
    "true_row_labels = matlab_dict['labels'].flatten()\n",
    "predicted_row_labels = sorted(model.row_labels_)\n",
    "print(\"NMI:\", nmi(true_row_labels, predicted_row_labels))\n",
    "cm = confusion_matrix(true_row_labels, predicted_row_labels)\n",
    "plot_confusion_matrix(cm, colormap=plt.cm.jet, labels='012')\n",
    "\n",
    "\n",
    "# plot terms\n",
    "terms = [str(x[0][0]) for x in matlab_dict['ms']]\n",
    "plot_top_terms(model, X, terms, n_cluster=1)"
   ]
  },
  {
   "cell_type": "code",
   "execution_count": 12,
   "metadata": {
    "collapsed": false
   },
   "outputs": [
    {
     "name": "stdout",
     "output_type": "stream",
     "text": [
      "== top term 0 990\n",
      "[ 990  426  647  720 1319  749  826   78  600  879 1375 1241  641  629  497\n",
      "  555 1011 1071  417  736  355  288  549  245   48  300  963  993 1364  893]\n",
      "\n",
      "== top term 1 275\n",
      "[ 275  143  468 1106  104 1098  772  475  214 1049  718   92  742  717  758\n",
      "  563 1374  899 1029  220  906  123  562 1211 1250  136  865 1094  326  346]\n",
      "\n",
      "== top term 2 300\n",
      "[ 300  306  985  879  737  876  736 1312  990  136  237  410  567  707  471\n",
      "  403  878  705  352  484 1237 1154  313 1355 1209  244   60  922  455  913]\n",
      "\n",
      "== top term 3 407\n",
      "[ 407  351 1134  987  313  753    3  651 1011   25  446  990  185  199  240\n",
      "  720  874  434  873  150  275  639  622  362  986  625  429  653  462  382]\n",
      "\n",
      "== top term 4 375\n",
      "[ 375  528 1105 1315 1242  823   37  240 1065  201 1068  923  347 1244  895\n",
      "  180 1164 1349   10  319  139  178 1134  160   25  779  697  297  730  549]\n",
      "\n",
      "== top term 5 197\n",
      "[ 197  113  861  487  233  570  399  318  308  369   38  547 1134  584 1339\n",
      "  569  873 1065  619  118  524  418  374  298  502  562  115 1203 1121  520]\n",
      "\n",
      "== top term 6 1319\n",
      "[1319  647  990  556  194  823 1396 1151  833   64  612  112  893 1375  426\n",
      "  549 1086  375  263  629  641  884  493   48  878   41  295  139  108  623]\n",
      "\n",
      "== top term 7 143\n",
      "[ 143  275  262  385  906   98 1173 1374  758    9  637  326   84  967  660\n",
      "  739  252  302 1326  240  367  239  393 1258 1367  590  678  742  848  725]\n",
      "\n",
      "== top term 8 833\n",
      "[ 833  732 1067   58 1330  461  362 1150 1357 1191  173 1160 1276  313  651\n",
      "  194 1075  635 1115  556  978  554  505 1378  167  394 1216  675 1319 1212]\n",
      "\n",
      "== top term 9 528\n",
      "[ 528  375 1315 1065 1105 1244 1306  514 1128 1349 1242  923 1164  140   37\n",
      "  180 1013  524  823 1285  875  240  359 1184  347  597  893   10  319 1068]\n",
      "\n",
      "top term indices\n",
      "[ 990  275  300  407  375  197 1319  143  833  528]\n",
      "true neighbors\n",
      "set([514, 3, 1029, 520, 9, 10, 524, 239, 167, 1049, 58, 547, 549, 38, 1065, 41, 555, 1068, 1071, 48, 562, 563, 567, 569, 570, 1375, 60, 1086, 64, 1094, 584, 1098, 78, 1105, 1106, 84, 597, 185, 600, 1128, 1115, 92, 1121, 98, 612, 104, 619, 108, 1134, 623, 112, 625, 115, 629, 118, 123, 362, 1150, 639, 641, 1154, 635, 647, 136, 651, 1164, 653, 660, 622, 150, 25, 367, 160, 675, 678, 113, 967, 173, 178, 1203, 180, 1209, 1211, 1212, 1216, 705, 194, 707, 199, 201, 717, 718, 720, 1315, 399, 1237, 214, 1241, 1242, 220, 37, 736, 737, 1250, 739, 742, 233, 1258, 237, 637, 240, 753, 244, 245, 758, 297, 1151, 252, 554, 725, 1067, 772, 1285, 262, 263, 556, 779, 1326, 1306, 730, 288, 475, 295, 1244, 298, 1330, 302, 1160, 306, 1075, 308, 823, 313, 826, 1339, 394, 318, 319, 139, 1349, 326, 140, 1355, 1357, 848, 1364, 1367, 346, 347, 861, 1374, 351, 352, 865, 1378, 355, 359, 873, 874, 875, 876, 878, 879, 369, 1396, 732, 374, 893, 382, 895, 385, 899, 393, 906, 749, 913, 403, 410, 923, 922, 1173, 417, 418, 426, 429, 434, 884, 446, 1184, 963, 455, 697, 461, 462, 978, 468, 590, 471, 985, 986, 987, 993, 484, 487, 1276, 1191, 493, 1312, 497, 1011, 1013, 502, 505])\n",
      "\n"
     ]
    }
   ],
   "source": [
    "graph = get_graph(X, model, terms, 1, 10, 30)"
   ]
  },
  {
   "cell_type": "code",
   "execution_count": 13,
   "metadata": {
    "collapsed": false
   },
   "outputs": [
    {
     "data": {
      "application/javascript": [
       "require.config({\n",
       "  paths: {\n",
       "      d3: '//cdnjs.cloudflare.com/ajax/libs/d3/3.4.8/d3.min'\n",
       "  }\n",
       "});"
      ],
      "text/plain": [
       "<IPython.core.display.Javascript object>"
      ]
     },
     "metadata": {},
     "output_type": "display_data"
    }
   ],
   "source": [
    "%%javascript\n",
    "require.config({\n",
    "  paths: {\n",
    "      d3: '//cdnjs.cloudflare.com/ajax/libs/d3/3.4.8/d3.min'\n",
    "  }\n",
    "});"
   ]
  },
  {
   "cell_type": "code",
   "execution_count": 14,
   "metadata": {
    "collapsed": false
   },
   "outputs": [
    {
     "data": {
      "application/javascript": [
       "\n",
       "           window.graph={'nodes': [{'group': 0, 'name': 'patients'}, {'group': 0, 'name': 'cells'}, {'group': 0, 'name': 'cases'}, {'group': 0, 'name': 'normal'}, {'group': 0, 'name': 'growth'}, {'group': 0, 'name': 'blood'}, {'group': 0, 'name': 'treatment'}, {'group': 0, 'name': 'cell'}, {'group': 0, 'name': 'children'}, {'group': 0, 'name': 'hormone'}, {'group': 1, 'name': 'thyroid'}, {'group': 1, 'name': 'hr'}, {'group': 1, 'name': 'peripheral'}, {'group': 1, 'name': 'cardiac'}, {'group': 1, 'name': 'ca'}, {'group': 1, 'name': 'mg'}, {'group': 1, 'name': 'fasting'}, {'group': 1, 'name': 'dense'}, {'group': 1, 'name': 'boys'}, {'group': 1, 'name': 'lymphocyte'}, {'group': 1, 'name': 'eeg'}, {'group': 1, 'name': 'routine'}, {'group': 1, 'name': 'treated'}, {'group': 1, 'name': 'min'}, {'group': 1, 'name': 'administration'}, {'group': 1, 'name': 'ego'}, {'group': 1, 'name': 'average'}, {'group': 1, 'name': 'testosterone'}, {'group': 1, 'name': 'complications'}, {'group': 1, 'name': 'mth'}, {'group': 1, 'name': 'studied'}, {'group': 1, 'name': 'labeled'}, {'group': 1, 'name': 'absence'}, {'group': 1, 'name': 'changed'}, {'group': 1, 'name': 'dioxide'}, {'group': 1, 'name': 'chemotherapy'}, {'group': 1, 'name': 'age'}, {'group': 1, 'name': 'palliative'}, {'group': 1, 'name': 'day'}, {'group': 1, 'name': 'epithelial'}, {'group': 1, 'name': 'tension'}, {'group': 1, 'name': 'lymphocytes'}, {'group': 1, 'name': 'died'}, {'group': 1, 'name': 'promoting'}, {'group': 1, 'name': 'thymidine'}, {'group': 1, 'name': 'node'}, {'group': 1, 'name': 'citrate'}, {'group': 1, 'name': 'urine'}, {'group': 1, 'name': 'disease'}, {'group': 1, 'name': 'parathyroid'}, {'group': 1, 'name': 'childhood'}, {'group': 1, 'name': 'hela'}, {'group': 1, 'name': 'consisted'}, {'group': 1, 'name': 'fine'}, {'group': 1, 'name': 'constitutional'}, {'group': 1, 'name': 'bone'}, {'group': 1, 'name': 'samples'}, {'group': 1, 'name': 'long'}, {'group': 1, 'name': 'increased'}, {'group': 1, 'name': 'surgery'}, {'group': 1, 'name': 'care'}, {'group': 1, 'name': 'similar'}, {'group': 1, 'name': 'rose'}, {'group': 1, 'name': 'urinary'}, {'group': 1, 'name': 'cord'}, {'group': 1, 'name': 'fate'}, {'group': 1, 'name': 'showed'}, {'group': 1, 'name': 'diagnosed'}, {'group': 1, 'name': 'studies'}, {'group': 1, 'name': 'patient'}, {'group': 1, 'name': 'ventricle'}, {'group': 1, 'name': 'anxiety'}, {'group': 1, 'name': 'therapy'}, {'group': 1, 'name': 'type'}, {'group': 1, 'name': 'normals'}, {'group': 1, 'name': 'stimulating'}, {'group': 1, 'name': 'greater'}, {'group': 1, 'name': 'strains'}, {'group': 1, 'name': 'content'}, {'group': 1, 'name': 'soft'}, {'group': 1, 'name': 'ml'}, {'group': 1, 'name': 'medium'}, {'group': 1, 'name': 'grew'}, {'group': 1, 'name': 'illness'}, {'group': 1, 'name': 'concentrations'}, {'group': 1, 'name': 'rise'}, {'group': 1, 'name': 'cultures'}, {'group': 1, 'name': 'play'}, {'group': 1, 'name': 'rats'}, {'group': 1, 'name': 'filariasis'}, {'group': 1, 'name': 'serum'}, {'group': 1, 'name': 'performed'}, {'group': 1, 'name': 'microscopy'}, {'group': 1, 'name': 'psychiatric'}, {'group': 1, 'name': 'incidence'}, {'group': 1, 'name': 'manifestations'}, {'group': 1, 'name': 'child'}, {'group': 1, 'name': 'distinctive'}, {'group': 1, 'name': 'correlation'}, {'group': 1, 'name': 'retardation'}, {'group': 1, 'name': 'proliferation'}, {'group': 1, 'name': 'erythrocytes'}, {'group': 1, 'name': 'significantly'}, {'group': 1, 'name': 'pituitary'}, {'group': 1, 'name': 'carbon'}, {'group': 1, 'name': 'uncertain'}, {'group': 1, 'name': 'proliferative'}, {'group': 1, 'name': 'excretion'}, {'group': 1, 'name': 'hypopituitary'}, {'group': 1, 'name': 'viral'}, {'group': 1, 'name': 'hgh'}, {'group': 1, 'name': 'occurred'}, {'group': 1, 'name': 'diagnostic'}, {'group': 1, 'name': 'migration'}, {'group': 1, 'name': 'cultured'}, {'group': 1, 'name': 'observed'}, {'group': 1, 'name': 'ventilation'}, {'group': 1, 'name': 'microscopic'}, {'group': 1, 'name': 'renal'}, {'group': 1, 'name': 'nuclear'}, {'group': 1, 'name': 'human'}, {'group': 1, 'name': 'diabetic'}, {'group': 1, 'name': 'valve'}, {'group': 1, 'name': 'intra'}, {'group': 1, 'name': 'dividing'}, {'group': 1, 'name': 'tumor'}, {'group': 1, 'name': 'therapeutic'}, {'group': 1, 'name': 'giant'}, {'group': 1, 'name': 'organic'}, {'group': 1, 'name': 'membrane'}, {'group': 1, 'name': 'schizophrenic'}, {'group': 1, 'name': 'lymphoid'}, {'group': 1, 'name': 'phosphate'}, {'group': 1, 'name': 'lines'}, {'group': 1, 'name': 'joint'}, {'group': 1, 'name': 'matched'}, {'group': 1, 'name': 'mediated'}, {'group': 1, 'name': 'membranes'}, {'group': 1, 'name': 'secretory'}, {'group': 1, 'name': 'reversed'}, {'group': 1, 'name': 'lower'}, {'group': 1, 'name': 'thymus'}, {'group': 1, 'name': 'doses'}, {'group': 1, 'name': 'secretion'}, {'group': 1, 'name': 'rises'}, {'group': 1, 'name': 'irregular'}, {'group': 1, 'name': 'fewer'}, {'group': 1, 'name': 'psychotic'}, {'group': 1, 'name': 'sinus'}, {'group': 1, 'name': 'abnormalities'}, {'group': 1, 'name': 'delay'}, {'group': 1, 'name': 'dwarfism'}, {'group': 1, 'name': 'group'}, {'group': 1, 'name': 'advanced'}, {'group': 1, 'name': 'component'}, {'group': 1, 'name': 'speech'}, {'group': 1, 'name': 'start'}, {'group': 1, 'name': 'short'}, {'group': 1, 'name': 'week'}, {'group': 1, 'name': 'deficiency'}, {'group': 1, 'name': 'virus'}, {'group': 1, 'name': 'para'}, {'group': 1, 'name': 'frequently'}, {'group': 1, 'name': 'schizophrenia'}, {'group': 1, 'name': 'chromosome'}, {'group': 1, 'name': 'clinically'}, {'group': 1, 'name': 'extracellular'}, {'group': 1, 'name': 'living'}, {'group': 1, 'name': 'muscle'}, {'group': 1, 'name': 'arterial'}, {'group': 1, 'name': 'cytoplasmic'}, {'group': 1, 'name': 'plasma'}, {'group': 1, 'name': 'proved'}, {'group': 1, 'name': 'irradiated'}, {'group': 1, 'name': 'disorders'}, {'group': 1, 'name': 'degree'}, {'group': 1, 'name': 'bovine'}, {'group': 1, 'name': 'increase'}, {'group': 1, 'name': 'abnormal'}, {'group': 1, 'name': 'nitrogen'}, {'group': 1, 'name': 'designated'}, {'group': 1, 'name': 'surgical'}, {'group': 1, 'name': 'clinical'}, {'group': 1, 'name': 'change'}, {'group': 1, 'name': 'carefully'}, {'group': 1, 'name': 'autistic'}, {'group': 1, 'name': 'volume'}, {'group': 1, 'name': 'response'}, {'group': 1, 'name': 'marked'}, {'group': 1, 'name': 'stimulated'}, {'group': 1, 'name': 'tissue'}, {'group': 1, 'name': 'electron'}, {'group': 1, 'name': 'nuclei'}, {'group': 1, 'name': 'granules'}, {'group': 1, 'name': 'excreted'}, {'group': 1, 'name': 'frequent'}, {'group': 1, 'name': 'common'}, {'group': 1, 'name': 'atrial'}, {'group': 1, 'name': 'hypophysectomized'}, {'group': 1, 'name': 'findings'}, {'group': 1, 'name': 'cytoplasm'}, {'group': 1, 'name': 'severe'}, {'group': 1, 'name': 'oxygen'}, {'group': 1, 'name': 'cancer'}, {'group': 1, 'name': 'weight'}, {'group': 1, 'name': 'factor'}, {'group': 1, 'name': 'thirteen'}, {'group': 1, 'name': 'higher'}, {'group': 1, 'name': 'metabolic'}, {'group': 1, 'name': 'diseases'}, {'group': 1, 'name': 'defect'}, {'group': 1, 'name': 'concentration'}, {'group': 1, 'name': 'blocks'}, {'group': 1, 'name': 'amount'}, {'group': 1, 'name': 'stimulus'}, {'group': 1, 'name': 'marrow'}, {'group': 1, 'name': 'culture'}, {'group': 1, 'name': 'malformation'}, {'group': 1, 'name': 'ventricular'}, {'group': 1, 'name': 'progressively'}, {'group': 1, 'name': 'subjects'}, {'group': 1, 'name': 'hospitalized'}, {'group': 1, 'name': 'joints'}, {'group': 1, 'name': 'venous'}, {'group': 1, 'name': 'emotional'}, {'group': 1, 'name': 'disturbed'}, {'group': 1, 'name': 'demonstrates'}, {'group': 1, 'name': 'diagnosis'}, {'group': 1, 'name': 'breast'}, {'group': 1, 'name': 'significant'}, {'group': 1, 'name': 'enlargement'}, {'group': 1, 'name': 'whilst'}, {'group': 1, 'name': 'groups'}], 'links': [{'source': 0, 'target': 10, 'value': 0.39737733582527129}, {'source': 0, 'target': 11, 'value': 0.38088163250809404}, {'source': 0, 'target': 12, 'value': 0.31862125469229569}, {'source': 0, 'target': 6, 'value': 0.29837515410740212}, {'source': 0, 'target': 13, 'value': 0.29773064312891162}, {'source': 0, 'target': 14, 'value': 0.29391421887603364}, {'source': 0, 'target': 15, 'value': 0.29143851686120642}, {'source': 0, 'target': 16, 'value': 0.28897438984009538}, {'source': 0, 'target': 17, 'value': 0.27870123155134446}, {'source': 0, 'target': 18, 'value': 0.27777777777777773}, {'source': 0, 'target': 19, 'value': 0.27758519176498242}, {'source': 0, 'target': 20, 'value': 0.26370385586248302}, {'source': 0, 'target': 21, 'value': 0.26208532227309733}, {'source': 0, 'target': 22, 'value': 0.25966350899551}, {'source': 0, 'target': 23, 'value': 0.25232603974837203}, {'source': 0, 'target': 24, 'value': 0.24897903925945644}, {'source': 0, 'target': 25, 'value': 0.24224069756247721}, {'source': 0, 'target': 26, 'value': 0.24127583043330564}, {'source': 0, 'target': 27, 'value': 0.23541400359031267}, {'source': 0, 'target': 28, 'value': 0.23096744271857803}, {'source': 0, 'target': 29, 'value': 0.23047243504076961}, {'source': 0, 'target': 30, 'value': 0.23014162498014318}, {'source': 0, 'target': 31, 'value': 0.2268482178905401}, {'source': 0, 'target': 32, 'value': 0.2229938088734158}, {'source': 0, 'target': 2, 'value': 0.22200089784944071}, {'source': 0, 'target': 33, 'value': 0.2198822847869194}, {'source': 0, 'target': 34, 'value': 0.21913708101542795}, {'source': 0, 'target': 35, 'value': 0.21895577260224502}, {'source': 0, 'target': 36, 'value': 0.21775819330616267}, {'source': 1, 'target': 7, 'value': 0.4565812791545088}, {'source': 1, 'target': 37, 'value': 0.40328286682292169}, {'source': 1, 'target': 38, 'value': 0.36745701104116291}, {'source': 1, 'target': 39, 'value': 0.3464763722687722}, {'source': 1, 'target': 40, 'value': 0.33437853466848211}, {'source': 1, 'target': 41, 'value': 0.33198521920588037}, {'source': 1, 'target': 42, 'value': 0.32753343666537238}, {'source': 1, 'target': 43, 'value': 0.28066832791235136}, {'source': 1, 'target': 44, 'value': 0.27976115368815746}, {'source': 1, 'target': 45, 'value': 0.27922667868639894}, {'source': 1, 'target': 46, 'value': 0.27328972417023717}, {'source': 1, 'target': 47, 'value': 0.27134079833403751}, {'source': 1, 'target': 48, 'value': 0.27102282665955563}, {'source': 1, 'target': 49, 'value': 0.26832942750145461}, {'source': 1, 'target': 50, 'value': 0.2631488583935705}, {'source': 1, 'target': 51, 'value': 0.26259402151263844}, {'source': 1, 'target': 52, 'value': 0.25700439398725089}, {'source': 1, 'target': 53, 'value': 0.25084027573809936}, {'source': 1, 'target': 54, 'value': 0.2496854142757671}, {'source': 1, 'target': 55, 'value': 0.24557943695922405}, {'source': 1, 'target': 56, 'value': 0.24519930543642057}, {'source': 1, 'target': 57, 'value': 0.24450506169686684}, {'source': 1, 'target': 58, 'value': 0.24321585274220237}, {'source': 1, 'target': 59, 'value': 0.24150530541295351}, {'source': 1, 'target': 60, 'value': 0.24099906612895489}, {'source': 1, 'target': 61, 'value': 0.24037653697051523}, {'source': 1, 'target': 62, 'value': 0.23887680956569737}, {'source': 1, 'target': 63, 'value': 0.23552897481569515}, {'source': 1, 'target': 64, 'value': 0.22975639866313419}, {'source': 2, 'target': 65, 'value': 0.30981914599618671}, {'source': 2, 'target': 66, 'value': 0.28216066434255299}, {'source': 2, 'target': 66, 'value': 0.26381138659072262}, {'source': 2, 'target': 67, 'value': 0.24449224378743142}, {'source': 2, 'target': 68, 'value': 0.24246715773614613}, {'source': 2, 'target': 68, 'value': 0.22352022352033526}, {'source': 2, 'target': 69, 'value': 0.22328963258411791}, {'source': 2, 'target': 69, 'value': 0.21646366627497621}, {'source': 2, 'target': 70, 'value': 0.20786989486782745}, {'source': 2, 'target': 71, 'value': 0.2060722043960746}, {'source': 2, 'target': 72, 'value': 0.20522152509746061}, {'source': 2, 'target': 73, 'value': 0.19708903069807157}, {'source': 2, 'target': 74, 'value': 0.19690533806580493}, {'source': 2, 'target': 75, 'value': 0.19575155319111801}, {'source': 2, 'target': 76, 'value': 0.19027400421559959}, {'source': 2, 'target': 77, 'value': 0.18292029834636192}, {'source': 2, 'target': 78, 'value': 0.18246898606496401}, {'source': 2, 'target': 79, 'value': 0.1808458072626275}, {'source': 2, 'target': 80, 'value': 0.17985458084490386}, {'source': 2, 'target': 81, 'value': 0.17604721476260052}, {'source': 2, 'target': 82, 'value': 0.17412073180055396}, {'source': 2, 'target': 83, 'value': 0.17273884819987473}, {'source': 2, 'target': 84, 'value': 0.17152719764752825}, {'source': 2, 'target': 85, 'value': 0.17109702963052018}, {'source': 2, 'target': 86, 'value': 0.17083354593992964}, {'source': 2, 'target': 87, 'value': 0.16817404698896068}, {'source': 2, 'target': 88, 'value': 0.16717697837565981}, {'source': 2, 'target': 89, 'value': 0.16707971975779237}, {'source': 3, 'target': 90, 'value': 0.31637819908704784}, {'source': 3, 'target': 91, 'value': 0.27386651407118096}, {'source': 3, 'target': 92, 'value': 0.2692600099072372}, {'source': 3, 'target': 92, 'value': 0.2398464384760613}, {'source': 3, 'target': 93, 'value': 0.23631487877450061}, {'source': 3, 'target': 94, 'value': 0.23431161375210749}, {'source': 3, 'target': 95, 'value': 0.23004721244974599}, {'source': 3, 'target': 95, 'value': 0.22489146438354771}, {'source': 3, 'target': 96, 'value': 0.2227896174037553}, {'source': 3, 'target': 97, 'value': 0.22231285668557957}, {'source': 3, 'target': 0, 'value': 0.21392064608622333}, {'source': 3, 'target': 98, 'value': 0.21131185771931824}, {'source': 3, 'target': 99, 'value': 0.21094163056449586}, {'source': 3, 'target': 100, 'value': 0.20586762105298506}, {'source': 3, 'target': 100, 'value': 0.20359607616433431}, {'source': 3, 'target': 101, 'value': 0.20078461692555241}, {'source': 3, 'target': 102, 'value': 0.19923876028769572}, {'source': 3, 'target': 103, 'value': 0.19922673005127581}, {'source': 3, 'target': 104, 'value': 0.1980582347524982}, {'source': 3, 'target': 1, 'value': 0.19371059911758429}, {'source': 3, 'target': 105, 'value': 0.19370926237553832}, {'source': 3, 'target': 106, 'value': 0.19142606329622783}, {'source': 3, 'target': 107, 'value': 0.1899505643248697}, {'source': 3, 'target': 108, 'value': 0.18977926790232408}, {'source': 3, 'target': 109, 'value': 0.18861852754638705}, {'source': 3, 'target': 110, 'value': 0.18855972175591443}, {'source': 3, 'target': 111, 'value': 0.18851091020187516}, {'source': 3, 'target': 112, 'value': 0.18663179813216177}, {'source': 3, 'target': 113, 'value': 0.18654180029868114}, {'source': 4, 'target': 9, 'value': 0.7340556918668395}, {'source': 4, 'target': 114, 'value': 0.39780218116856236}, {'source': 4, 'target': 115, 'value': 0.37548602754319343}, {'source': 4, 'target': 116, 'value': 0.31536019849454772}, {'source': 4, 'target': 117, 'value': 0.28311933133043765}, {'source': 4, 'target': 118, 'value': 0.28195808608078371}, {'source': 4, 'target': 118, 'value': 0.27902609491557528}, {'source': 4, 'target': 119, 'value': 0.2585348777334821}, {'source': 4, 'target': 120, 'value': 0.24805028498231077}, {'source': 4, 'target': 121, 'value': 0.23808154910721196}, {'source': 4, 'target': 122, 'value': 0.23542068319747259}, {'source': 4, 'target': 123, 'value': 0.23529415601856871}, {'source': 4, 'target': 124, 'value': 0.23150646697049304}, {'source': 4, 'target': 125, 'value': 0.23123331650893375}, {'source': 4, 'target': 126, 'value': 0.23074193037456189}, {'source': 4, 'target': 127, 'value': 0.22947229516125764}, {'source': 4, 'target': 128, 'value': 0.22782258692996155}, {'source': 4, 'target': 129, 'value': 0.22466789027583089}, {'source': 4, 'target': 130, 'value': 0.22323569265977408}, {'source': 4, 'target': 131, 'value': 0.21285727419583808}, {'source': 4, 'target': 132, 'value': 0.20920636030474485}, {'source': 4, 'target': 132, 'value': 0.20493291283716242}, {'source': 4, 'target': 133, 'value': 0.20461670268743931}, {'source': 4, 'target': 133, 'value': 0.19915927378228282}, {'source': 4, 'target': 134, 'value': 0.19862541326456828}, {'source': 4, 'target': 135, 'value': 0.19750693589347035}, {'source': 4, 'target': 136, 'value': 0.19553236873092722}, {'source': 4, 'target': 137, 'value': 0.19112739302699866}, {'source': 4, 'target': 137, 'value': 0.19110554864804541}, {'source': 5, 'target': 138, 'value': 0.38681551753171894}, {'source': 5, 'target': 139, 'value': 0.38479546352122984}, {'source': 5, 'target': 140, 'value': 0.3611619175818116}, {'source': 5, 'target': 141, 'value': 0.33903086088646228}, {'source': 5, 'target': 142, 'value': 0.32691484911591723}, {'source': 5, 'target': 143, 'value': 0.32280254894930877}, {'source': 5, 'target': 144, 'value': 0.30424466601536354}, {'source': 5, 'target': 145, 'value': 0.30165128951200021}, {'source': 5, 'target': 146, 'value': 0.27154047408751364}, {'source': 5, 'target': 147, 'value': 0.27109760253248}, {'source': 5, 'target': 148, 'value': 0.26123767980172663}, {'source': 5, 'target': 148, 'value': 0.24570825265911606}, {'source': 5, 'target': 149, 'value': 0.2451970534826812}, {'source': 5, 'target': 150, 'value': 0.24400178873800588}, {'source': 5, 'target': 151, 'value': 0.23887414947890773}, {'source': 5, 'target': 151, 'value': 0.23361392687880198}, {'source': 5, 'target': 151, 'value': 0.22812759821483833}, {'source': 5, 'target': 152, 'value': 0.22769526561930584}, {'source': 5, 'target': 153, 'value': 0.21605877598168793}, {'source': 5, 'target': 154, 'value': 0.21111192558770384}, {'source': 5, 'target': 155, 'value': 0.20867489644198264}, {'source': 5, 'target': 156, 'value': 0.20359548334456606}, {'source': 5, 'target': 157, 'value': 0.19903823222988695}, {'source': 5, 'target': 158, 'value': 0.19903823222988695}, {'source': 5, 'target': 158, 'value': 0.19815609655930796}, {'source': 5, 'target': 159, 'value': 0.19293681304065624}, {'source': 5, 'target': 160, 'value': 0.19215580544607941}, {'source': 5, 'target': 161, 'value': 0.19061166943841368}, {'source': 5, 'target': 162, 'value': 0.18780947123763028}, {'source': 6, 'target': 162, 'value': 0.342606829088834}, {'source': 6, 'target': 163, 'value': 0.2876914010909058}, {'source': 6, 'target': 164, 'value': 0.27702691581316269}, {'source': 6, 'target': 164, 'value': 0.23139853805396396}, {'source': 6, 'target': 165, 'value': 0.22990226454845877}, {'source': 6, 'target': 166, 'value': 0.22806819954765775}, {'source': 6, 'target': 8, 'value': 0.21835343006635274}, {'source': 6, 'target': 167, 'value': 0.20897185025011658}, {'source': 6, 'target': 168, 'value': 0.20247372079721848}, {'source': 6, 'target': 169, 'value': 0.20039701235331298}, {'source': 6, 'target': 169, 'value': 0.19986851794182578}, {'source': 6, 'target': 169, 'value': 0.19616099552149102}, {'source': 6, 'target': 169, 'value': 0.19457322667865637}, {'source': 6, 'target': 169, 'value': 0.19379627562019486}, {'source': 6, 'target': 170, 'value': 0.18939682326212931}, {'source': 6, 'target': 4, 'value': 0.18003389239473341}, {'source': 6, 'target': 171, 'value': 0.17763586612509658}, {'source': 6, 'target': 171, 'value': 0.17673355272240157}, {'source': 6, 'target': 171, 'value': 0.17286199474669212}, {'source': 6, 'target': 172, 'value': 0.17183305369065055}, {'source': 6, 'target': 173, 'value': 0.17112152660248292}, {'source': 6, 'target': 173, 'value': 0.17018129131840476}, {'source': 6, 'target': 173, 'value': 0.16966159658830302}, {'source': 6, 'target': 174, 'value': 0.16699751029442747}, {'source': 6, 'target': 175, 'value': 0.16662599145760051}, {'source': 6, 'target': 175, 'value': 0.16016478215467644}, {'source': 6, 'target': 176, 'value': 0.15908649491210022}, {'source': 6, 'target': 177, 'value': 0.15740244484822671}, {'source': 7, 'target': 178, 'value': 0.311704062218852}, {'source': 7, 'target': 179, 'value': 0.30994891989027018}, {'source': 7, 'target': 179, 'value': 0.30477580021869138}, {'source': 7, 'target': 180, 'value': 0.29369304384710254}, {'source': 7, 'target': 181, 'value': 0.28002333625040515}, {'source': 7, 'target': 181, 'value': 0.25077414990684288}, {'source': 7, 'target': 181, 'value': 0.24442440661362919}, {'source': 7, 'target': 182, 'value': 0.24334970527148475}, {'source': 7, 'target': 183, 'value': 0.23916735326024963}, {'source': 7, 'target': 183, 'value': 0.23881661812073765}, {'source': 7, 'target': 184, 'value': 0.23764696368049343}, {'source': 7, 'target': 185, 'value': 0.23544039110652706}, {'source': 7, 'target': 186, 'value': 0.23481002748242258}, {'source': 7, 'target': 187, 'value': 0.23349163935824546}, {'source': 7, 'target': 188, 'value': 0.229716301649664}, {'source': 7, 'target': 189, 'value': 0.22946592143827566}, {'source': 7, 'target': 190, 'value': 0.22792693441849471}, {'source': 7, 'target': 190, 'value': 0.21998620939061994}, {'source': 7, 'target': 191, 'value': 0.21648414873923597}, {'source': 7, 'target': 192, 'value': 0.21628805798455847}, {'source': 7, 'target': 193, 'value': 0.2161069831105325}, {'source': 7, 'target': 194, 'value': 0.21167774543234}, {'source': 7, 'target': 195, 'value': 0.21167774543234}, {'source': 7, 'target': 196, 'value': 0.21029966768085276}, {'source': 7, 'target': 197, 'value': 0.20975870048482612}, {'source': 7, 'target': 197, 'value': 0.20727205730352385}, {'source': 7, 'target': 198, 'value': 0.20657632720900165}, {'source': 7, 'target': 199, 'value': 0.20503980250736417}, {'source': 8, 'target': 200, 'value': 0.4951363952395364}, {'source': 8, 'target': 201, 'value': 0.41862408110846711}, {'source': 8, 'target': 202, 'value': 0.3825615891092522}, {'source': 8, 'target': 203, 'value': 0.3462453220271573}, {'source': 8, 'target': 204, 'value': 0.33930583416159971}, {'source': 8, 'target': 204, 'value': 0.33239879211331658}, {'source': 8, 'target': 205, 'value': 0.33227256343078093}, {'source': 8, 'target': 206, 'value': 0.33164813470324367}, {'source': 8, 'target': 207, 'value': 0.30411075152195199}, {'source': 8, 'target': 208, 'value': 0.30312584734036152}, {'source': 8, 'target': 209, 'value': 0.29990682028978155}, {'source': 8, 'target': 210, 'value': 0.2938474720362152}, {'source': 8, 'target': 210, 'value': 0.29146716090419367}, {'source': 8, 'target': 210, 'value': 0.28494300318663285}, {'source': 8, 'target': 210, 'value': 0.27360607872880882}, {'source': 8, 'target': 211, 'value': 0.26723437869621897}, {'source': 8, 'target': 212, 'value': 0.26653977317070388}, {'source': 8, 'target': 213, 'value': 0.25070242491520933}, {'source': 8, 'target': 213, 'value': 0.24688125770057373}, {'source': 8, 'target': 214, 'value': 0.23797780147864173}, {'source': 8, 'target': 215, 'value': 0.2379778014786417}, {'source': 8, 'target': 216, 'value': 0.2379426012216449}, {'source': 8, 'target': 217, 'value': 0.23507797762897212}, {'source': 8, 'target': 218, 'value': 0.22212780982652339}, {'source': 8, 'target': 219, 'value': 0.22195303028250646}, {'source': 8, 'target': 220, 'value': 0.22106289195376949}, {'source': 8, 'target': 221, 'value': 0.21937318231574016}, {'source': 8, 'target': 222, 'value': 0.21777823252017997}, {'source': 9, 'target': 222, 'value': 0.36886446558301217}, {'source': 9, 'target': 222, 'value': 0.34346379238649516}, {'source': 9, 'target': 222, 'value': 0.32085676190817358}, {'source': 9, 'target': 222, 'value': 0.29154484760578081}, {'source': 9, 'target': 223, 'value': 0.28804308035818571}, {'source': 9, 'target': 224, 'value': 0.27015149271103533}, {'source': 9, 'target': 225, 'value': 0.25775827614896268}, {'source': 9, 'target': 225, 'value': 0.25422511639228829}, {'source': 9, 'target': 225, 'value': 0.25222014226760658}, {'source': 9, 'target': 225, 'value': 0.24624655250268734}, {'source': 9, 'target': 225, 'value': 0.24578665814606271}, {'source': 9, 'target': 226, 'value': 0.24408400864607088}, {'source': 9, 'target': 226, 'value': 0.23405304828378226}, {'source': 9, 'target': 226, 'value': 0.23263795462025114}, {'source': 9, 'target': 227, 'value': 0.21612119416882827}, {'source': 9, 'target': 227, 'value': 0.21574182211604079}, {'source': 9, 'target': 227, 'value': 0.2146789871757101}, {'source': 9, 'target': 228, 'value': 0.21094755940235091}, {'source': 9, 'target': 229, 'value': 0.20373287758211658}, {'source': 9, 'target': 229, 'value': 0.19849658348457577}, {'source': 9, 'target': 230, 'value': 0.19296535193645381}, {'source': 9, 'target': 231, 'value': 0.19031538774196421}, {'source': 9, 'target': 231, 'value': 0.18962852363962482}, {'source': 9, 'target': 232, 'value': 0.1895284873551622}, {'source': 9, 'target': 232, 'value': 0.1880163564600989}, {'source': 9, 'target': 232, 'value': 0.18704131019962622}, {'source': 9, 'target': 232, 'value': 0.18609957736193705}, {'source': 9, 'target': 232, 'value': 0.18168721105712754}]};\n",
       "           "
      ],
      "text/plain": [
       "<IPython.core.display.Javascript object>"
      ]
     },
     "execution_count": 14,
     "metadata": {},
     "output_type": "execute_result"
    }
   ],
   "source": [
    "from IPython.display import Javascript\n",
    "#runs arbitrary javascript, client-side\n",
    "Javascript(\"\"\"\n",
    "           window.graph={};\n",
    "           \"\"\".format(graph))"
   ]
  },
  {
   "cell_type": "code",
   "execution_count": 16,
   "metadata": {
    "collapsed": false
   },
   "outputs": [
    {
     "data": {
      "application/javascript": [
       "require(['d3'], function(d3){\n",
       "  //a weird idempotency thing\n",
       "  $(\"#chart1\").remove();\n",
       "  //create canvas\n",
       "  element.append(\"<div id='chart1'></div>\");\n",
       "  $(\"#chart1\").width(\"1160px\");\n",
       "  $(\"#chart1\").height(\"800px\");        \n",
       "  var margin = {top: 20, right: 20, bottom: 30, left: 40};\n",
       "  var width = 1280 - margin.left - margin.right;\n",
       "  var height = 800 - margin.top - margin.bottom;\n",
       "  var svg = d3.select(\"#chart1\").append(\"svg\")\n",
       "    .style(\"position\", \"relative\")\n",
       "    .style(\"max-width\", \"960px\")\n",
       "    .attr(\"width\", width + \"px\")\n",
       "    .attr(\"height\", (height + 50) + \"px\")\n",
       "    .call(d3.behavior.zoom().on(\"zoom\", redraw))\n",
       "    .append(\"g\")\n",
       "    .attr(\"transform\", \"translate(\" + margin.left + \",\" + margin.top + \")\");\n",
       "    \n",
       "    \n",
       "  function redraw() {\n",
       "      svg.attr(\"transform\",\n",
       "               \"translate(\" + d3.event.translate + \")\"\n",
       "               + \" scale(\" + d3.event.scale + \")\");\n",
       "  }   \n",
       "\n",
       "  var color = d3.scale.category20();\n",
       "\n",
       "  var force = d3.layout.force()\n",
       "    .charge(-500)\n",
       "    //.linkDistance(5)\n",
       "    .linkDistance(function(d) { return (1 - d.value); })\n",
       "    .size([width, height]);\n",
       "\n",
       "  var graph = window.graph;\n",
       "    \n",
       "  force\n",
       "      .nodes(graph.nodes)\n",
       "      .links(graph.links)\n",
       "      .start();\n",
       "\n",
       "  var link = svg.selectAll(\".link\")\n",
       "      .data(graph.links)\n",
       "      .enter().append(\"line\")\n",
       "      .attr(\"class\", \"link\")\n",
       "      .style(\"stroke\", \"#999;\")\n",
       "      .style(\"stroke-opacity\", .6)\n",
       "      .style(\"stroke-width\", function(d) { return Math.sqrt(d.value); })\n",
       "  \n",
       "      .style(\"stroke\", \"blue\");\n",
       "\n",
       "  var node = svg.selectAll(\".node\")\n",
       "      .data(graph.nodes)\n",
       "      .enter().append(\"g\")\n",
       "      .attr(\"class\", \"node\")\n",
       "      .call(force.drag);\n",
       "    \n",
       "  node.append(\"circle\")\n",
       "      .attr(\"class\", \"node_circle\")\n",
       "      .attr(\"r\", 8)\n",
       "      .style(\"fill\", function(d) { return color(d.group); });\n",
       "\n",
       "  node.append(\"text\")\n",
       "      .attr(\"class\", \"node_text\")\n",
       "      .attr(\"dx\", 12)\n",
       "      .attr(\"dy\", \".35em\")\n",
       "      .text(function(d) { return d.name });\n",
       "\n",
       "  node.append(\"title\")\n",
       "      .text(function(d) { return d.name; });\n",
       "\n",
       "  var node_text = svg.selectAll(\".node_text\");\n",
       "  var node_circle = svg.selectAll(\".node_circle\");\n",
       "    \n",
       "  force.on(\"tick\", function() {\n",
       "    link.attr(\"x1\", function(d) { return d.source.x; })\n",
       "        .attr(\"y1\", function(d) { return d.source.y; })\n",
       "        .attr(\"x2\", function(d) { return d.target.x; })\n",
       "        .attr(\"y2\", function(d) { return d.target.y; });\n",
       "\n",
       "    node_circle.attr(\"cx\", function(d) { return d.x; })\n",
       "        .attr(\"cy\", function(d) { return d.y; });\n",
       "      \n",
       "    node_text.attr(\"x\", function(d) { return d.x; })\n",
       "        .attr(\"y\", function(d) { return d.y; });\n",
       "  });\n",
       "});"
      ],
      "text/plain": [
       "<IPython.core.display.Javascript object>"
      ]
     },
     "metadata": {},
     "output_type": "display_data"
    }
   ],
   "source": [
    "%%javascript\n",
    "require(['d3'], function(d3){\n",
    "  //a weird idempotency thing\n",
    "  $(\"#chart1\").remove();\n",
    "  //create canvas\n",
    "  element.append(\"<div id='chart1'></div>\");\n",
    "  $(\"#chart1\").width(\"1160px\");\n",
    "  $(\"#chart1\").height(\"800px\");        \n",
    "  var margin = {top: 20, right: 20, bottom: 30, left: 40};\n",
    "  var width = 1280 - margin.left - margin.right;\n",
    "  var height = 800 - margin.top - margin.bottom;\n",
    "  var svg = d3.select(\"#chart1\").append(\"svg\")\n",
    "    .style(\"position\", \"relative\")\n",
    "    .style(\"max-width\", \"960px\")\n",
    "    .attr(\"width\", width + \"px\")\n",
    "    .attr(\"height\", (height + 50) + \"px\")\n",
    "    .call(d3.behavior.zoom().on(\"zoom\", redraw))\n",
    "    .append(\"g\")\n",
    "    .attr(\"transform\", \"translate(\" + margin.left + \",\" + margin.top + \")\");\n",
    "    \n",
    "    \n",
    "  function redraw() {\n",
    "      svg.attr(\"transform\",\n",
    "               \"translate(\" + d3.event.translate + \")\"\n",
    "               + \" scale(\" + d3.event.scale + \")\");\n",
    "  }   \n",
    "\n",
    "  var color = d3.scale.category20();\n",
    "\n",
    "  var force = d3.layout.force()\n",
    "    .charge(-500)\n",
    "    //.linkDistance(5)\n",
    "    .linkDistance(function(d) { return (1 - d.value); })\n",
    "    .size([width, height]);\n",
    "\n",
    "  var graph = window.graph;\n",
    "    \n",
    "  force\n",
    "      .nodes(graph.nodes)\n",
    "      .links(graph.links)\n",
    "      .start();\n",
    "\n",
    "  var link = svg.selectAll(\".link\")\n",
    "      .data(graph.links)\n",
    "      .enter().append(\"line\")\n",
    "      .attr(\"class\", \"link\")\n",
    "      .style(\"stroke\", \"#999;\")\n",
    "      .style(\"stroke-opacity\", .6)\n",
    "      .style(\"stroke-width\", function(d) { return Math.sqrt(d.value); })\n",
    "  \n",
    "      .style(\"stroke\", \"blue\");\n",
    "\n",
    "  var node = svg.selectAll(\".node\")\n",
    "      .data(graph.nodes)\n",
    "      .enter().append(\"g\")\n",
    "      .attr(\"class\", \"node\")\n",
    "      .call(force.drag);\n",
    "    \n",
    "  node.append(\"circle\")\n",
    "      .attr(\"class\", \"node_circle\")\n",
    "      .attr(\"r\", 8)\n",
    "      .style(\"fill\", function(d) { return color(d.group); });\n",
    "\n",
    "  node.append(\"text\")\n",
    "      .attr(\"class\", \"node_text\")\n",
    "      .attr(\"dx\", 12)\n",
    "      .attr(\"dy\", \".35em\")\n",
    "      .text(function(d) { return d.name });\n",
    "\n",
    "  node.append(\"title\")\n",
    "      .text(function(d) { return d.name; });\n",
    "\n",
    "  var node_text = svg.selectAll(\".node_text\");\n",
    "  var node_circle = svg.selectAll(\".node_circle\");\n",
    "    \n",
    "  force.on(\"tick\", function() {\n",
    "    link.attr(\"x1\", function(d) { return d.source.x; })\n",
    "        .attr(\"y1\", function(d) { return d.source.y; })\n",
    "        .attr(\"x2\", function(d) { return d.target.x; })\n",
    "        .attr(\"y2\", function(d) { return d.target.y; });\n",
    "\n",
    "    node_circle.attr(\"cx\", function(d) { return d.x; })\n",
    "        .attr(\"cy\", function(d) { return d.y; });\n",
    "      \n",
    "    node_text.attr(\"x\", function(d) { return d.x; })\n",
    "        .attr(\"y\", function(d) { return d.y; });\n",
    "  });\n",
    "});"
   ]
  },
  {
   "cell_type": "code",
   "execution_count": null,
   "metadata": {
    "collapsed": true
   },
   "outputs": [],
   "source": []
  }
 ],
 "metadata": {
  "kernelspec": {
   "display_name": "Python 2",
   "language": "python",
   "name": "python2"
  },
  "language_info": {
   "codemirror_mode": {
    "name": "ipython",
    "version": 2
   },
   "file_extension": ".py",
   "mimetype": "text/x-python",
   "name": "python",
   "nbconvert_exporter": "python",
   "pygments_lexer": "ipython2",
   "version": "2.7.11"
  }
 },
 "nbformat": 4,
 "nbformat_minor": 0
}
