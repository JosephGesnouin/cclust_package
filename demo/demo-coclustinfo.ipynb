{
 "cells": [
  {
   "cell_type": "code",
   "execution_count": 1,
   "metadata": {
    "collapsed": false,
    "scrolled": false
   },
   "outputs": [
    {
     "name": "stdout",
     "output_type": "stream",
     "text": [
      "1) Loading data\n",
      "CRITERION: 0.368279763177\n",
      "NMI: 0.933121766661\n",
      "ARI: 0.9608527618445246\n",
      "ACCURACY:0.986892829607\n",
      "[[1007   25    1]\n",
      " [   3 1452    5]\n",
      " [   2   15 1381]]\n"
     ]
    },
    {
     "data": {
      "image/png": "[encoded data removed]",
      "text/plain": [
       "<matplotlib.figure.Figure at 0x4609c50>"
      ]
     },
     "metadata": {},
     "output_type": "display_data"
    }
   ],
   "source": [
    "%matplotlib inline\n",
    "import matplotlib.pyplot as plt\n",
    "import numpy as np, scipy.sparse as sp, scipy.io as io\n",
    "from sklearn.metrics import confusion_matrix\n",
    "from coclust.CoclustSpecMod import CoclustSpecMod\n",
    "from coclust import CoclustInfo\n",
    "from imp import reload\n",
    "reload(CoclustInfo)\n",
    "from coclust.CoclustInfo import CoclustInfo\n",
    "from coclust.utils.evaluation import print_NMI_and_ARI, plot_convergence, print_accuracy\n",
    "# Retrieve the Classic3  document-term matrix from a matlab file\n",
    "print(\"1) Loading data\")\n",
    "file_name = \"../datasets/classic3.mat\"\n",
    "matlab_dict = io.loadmat(file_name)\n",
    "X = matlab_dict['A']\n",
    "    \n",
    "# Create and fit a model with 3 co-clusters\n",
    "model = CoclustInfo(n_row_clusters=3, n_col_clusters=3, n_init=4)\n",
    "model.fit(X)\n",
    "\n",
    "# Evaluate the results\n",
    "print(\"CRITERION:\",model.criterion)\n",
    "true_row_labels=matlab_dict['labels'].flatten()\n",
    "predicted_row_labels = model.row_labels_\n",
    "print_NMI_and_ARI( true_row_labels, predicted_row_labels)\n",
    "cm=confusion_matrix(true_row_labels,predicted_row_labels)\n",
    "print_accuracy(cm,X.shape[0],3)\n",
    "print(cm)\n",
    "    \n",
    "# Show convergence\n",
    "plot_convergence(model.criterions, 'P_KL MI',marker='o')\n",
    "    \n"
   ]
  },
  {
   "cell_type": "code",
   "execution_count": null,
   "metadata": {
    "collapsed": true
   },
   "outputs": [],
   "source": []
  }
 ],
 "metadata": {
  "kernelspec": {
   "display_name": "Python 3",
   "language": "python",
   "name": "python3"
  },
  "language_info": {
   "codemirror_mode": {
    "name": "ipython",
    "version": 3
   },
   "file_extension": ".py",
   "mimetype": "text/x-python",
   "name": "python",
   "nbconvert_exporter": "python",
   "pygments_lexer": "ipython3",
   "version": "3.4.4"
  }
 },
 "nbformat": 4,
 "nbformat_minor": 0
}
