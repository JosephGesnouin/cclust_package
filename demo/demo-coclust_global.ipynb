{
 "cells": [
  {
   "cell_type": "code",
   "execution_count": null,
   "metadata": {
    "collapsed": false
   },
   "outputs": [],
   "source": [
    "%matplotlib inline\n",
    "\n",
    "import sys\n",
    "sys.path.append('..')\n",
    "\n",
    "# For data loading\n",
    "from scipy.io import loadmat\n",
    "# For co-clustering\n",
    "from coclust.CoclustMod import CoclustMod\n",
    "from coclust.CoclustSpecMod import CoclustSpecMod\n",
    "from coclust.CoclustInfo import CoclustInfo\n",
    "\n",
    "# For evaluations\n",
    "from coclust.evaluation.io import(load_doc_term_data)\n",
    "from coclust.evaluation.partitionEvaluation import(best_modularity_partition)\n",
    "from coclust.evaluation.ioNotebook import(input_with_default_int, input_with_default_str)\n",
    "from coclust.utils.evaluation import (print_NMI_and_ARI,\n",
    "                                      plot_convergence,\n",
    "                                      accuracy,\n",
    "                                      plot_delta_kl)\n",
    "# For visualization\n",
    "from coclust.visualization.coClusteringMeasures import(plot_max_modularities, \n",
    "                                                       plot_intermediate_modularities)\n",
    "from coclust.visualization.termClusters import(plot_cluster_top_terms, \n",
    "                                               get_term_graph, \n",
    "                                               plot_cluster_sizes)"
   ]
  },
  {
   "cell_type": "code",
   "execution_count": null,
   "metadata": {
    "collapsed": false
   },
   "outputs": [],
   "source": [
    "# ** Get best co-clustering with the CoclustMod approach **\n",
    "\n",
    "# [Co-clustering by direct maximization of graph modularity]\n",
    "\n",
    "# Provide a co-occurence file path\n",
    "# Exp: \"../datasets/classic3.mat\"\n",
    "# Exp: \"../datasets/classic3.csv\"\n",
    "file_path = input_with_default_str('Co-occurence file path', \"../datasets/classic3_coclustFormat.mat\")\n",
    "\n",
    "# Load the given co-occurence matrix and associated term labels\n",
    "doc_term_data = load_doc_term_data(file_path)"
   ]
  },
  {
   "cell_type": "code",
   "execution_count": null,
   "metadata": {
    "collapsed": false
   },
   "outputs": [],
   "source": [
    "# ** Compute the final coClust modularity on a range of number of clusters **\n",
    "\n",
    "# -- range of number of clusters\n",
    "# ---- get min\n",
    "min_cluster_nbr = input_with_default_int('Minimum number of clusters', 2)\n",
    "max_cluster_nbr = input_with_default_int('Maximum number of clusters', 9)\n",
    "range_n_clusters = range(min_cluster_nbr, (max_cluster_nbr+1))\n",
    "\n",
    "# -- Number of random initialization per cluster number\n",
    "n_rand_init = input_with_default_int('Number of random initialization per cluster number', 1)\n",
    "\n",
    "# --  max modularity for all models\n",
    "all_final_modularities = [None]*len(range_n_clusters)\n",
    "\n",
    "best_coclustMod_model, all_max_modularities = best_modularity_partition(doc_term_data['doc_term_matrix'], \n",
    "                                                                        range_n_clusters, n_rand_init)"
   ]
  },
  {
   "cell_type": "code",
   "execution_count": null,
   "metadata": {
    "collapsed": false,
    "scrolled": true
   },
   "outputs": [],
   "source": [
    "# ** Plot all final modularities **\n",
    "plot_max_modularities(all_max_modularities, range_n_clusters)"
   ]
  },
  {
   "cell_type": "code",
   "execution_count": null,
   "metadata": {
    "collapsed": false
   },
   "outputs": [],
   "source": [
    "# ** Plot intermediate modularities for the best CoClust final modularity **\n",
    "plot_intermediate_modularities(best_coclustMod_model)"
   ]
  },
  {
   "cell_type": "code",
   "execution_count": null,
   "metadata": {
    "collapsed": false,
    "scrolled": true
   },
   "outputs": [],
   "source": [
    "# ** Plot top terms for each cluster and the cluster sizes **\n",
    "n_terms = input_with_default_int('Number of top terms', 10)\n",
    "\n",
    "# --> top terms\n",
    "plot_cluster_top_terms(doc_term_data['doc_term_matrix'], doc_term_data['term_labels'], n_terms, best_coclustMod_model)\n",
    "# --> cluster sizes\n",
    "plot_cluster_sizes(best_coclustMod_model)"
   ]
  },
  {
   "cell_type": "code",
   "execution_count": null,
   "metadata": {
    "collapsed": false
   },
   "outputs": [],
   "source": [
    "# ** Plot the term graph for a given cluster of terms **\n",
    "n_cluster = input_with_default_int('Number of cluster', 1)\n",
    "n_top_terms = input_with_default_int('Number of top terms', 25)\n",
    "n_neighbors = input_with_default_int('Number of neighbors', 10)\n",
    "\n",
    "graph = get_term_graph(X = doc_term_data['doc_term_matrix'], model = best_coclustMod_model, \n",
    "                       terms = doc_term_data['term_labels'], n_cluster = n_cluster, \n",
    "                       n_top_terms = n_top_terms, n_neighbors = n_neighbors)"
   ]
  },
  {
   "cell_type": "code",
   "execution_count": null,
   "metadata": {
    "collapsed": false
   },
   "outputs": [],
   "source": [
    "%%javascript\n",
    "require.config({\n",
    "  paths: {\n",
    "      d3: '//cdnjs.cloudflare.com/ajax/libs/d3/3.4.8/d3.min'\n",
    "  }\n",
    "});"
   ]
  },
  {
   "cell_type": "code",
   "execution_count": null,
   "metadata": {
    "collapsed": false
   },
   "outputs": [],
   "source": [
    "from IPython.display import Javascript\n",
    "#runs arbitrary javascript, client-side\n",
    "Javascript(\"\"\"\n",
    "           window.graph={};\n",
    "           \"\"\".format(graph))"
   ]
  },
  {
   "cell_type": "code",
   "execution_count": null,
   "metadata": {
    "collapsed": false
   },
   "outputs": [],
   "source": [
    "%%javascript\n",
    "require(['d3'], function(d3){\n",
    "  //a weird idempotency thing\n",
    "  $(\"#chart1\").remove();\n",
    "  //create canvas\n",
    "  element.append(\"<div id='chart1'></div>\");\n",
    "  $(\"#chart1\").width(\"1160px\");\n",
    "  $(\"#chart1\").height(\"800px\");        \n",
    "  var margin = {top: 20, right: 20, bottom: 30, left: 40};\n",
    "  var width = 1280 - margin.left - margin.right;\n",
    "  var height = 800 - margin.top - margin.bottom;\n",
    "  var svg = d3.select(\"#chart1\").append(\"svg\")\n",
    "    .style(\"position\", \"relative\")\n",
    "    .style(\"max-width\", \"960px\")\n",
    "    .attr(\"width\", width + \"px\")\n",
    "    .attr(\"height\", (height + 50) + \"px\")\n",
    "    .call(d3.behavior.zoom().on(\"zoom\", redraw))\n",
    "    .append(\"g\")\n",
    "    .attr(\"transform\", \"translate(\" + margin.left + \",\" + margin.top + \")\");\n",
    "    \n",
    "    \n",
    "  function redraw() {\n",
    "      svg.attr(\"transform\",\n",
    "               \"translate(\" + d3.event.translate + \")\"\n",
    "               + \" scale(\" + d3.event.scale + \")\");\n",
    "  }   \n",
    "\n",
    "  var color = d3.scale.category20();\n",
    "\n",
    "  var force = d3.layout.force()\n",
    "    .charge(-500)\n",
    "    //.linkDistance(5)\n",
    "    .linkDistance(function(d) { return (1 - d.value); })\n",
    "    .size([width, height]);\n",
    "\n",
    "  var graph = window.graph;\n",
    "    \n",
    "  force\n",
    "      .nodes(graph.nodes)\n",
    "      .links(graph.links)\n",
    "      .start();\n",
    "\n",
    "  var link = svg.selectAll(\".link\")\n",
    "      .data(graph.links)\n",
    "      .enter().append(\"line\")\n",
    "      .attr(\"class\", \"link\")\n",
    "      .style(\"stroke\", \"#999;\")\n",
    "      .style(\"stroke-opacity\", .6)\n",
    "      .style(\"stroke-width\", function(d) { return Math.sqrt(d.value); })\n",
    "  \n",
    "      .style(\"stroke\", \"blue\");\n",
    "\n",
    "  var node = svg.selectAll(\".node\")\n",
    "      .data(graph.nodes)\n",
    "      .enter().append(\"g\")\n",
    "      .attr(\"class\", \"node\")\n",
    "      .call(force.drag);\n",
    "    \n",
    "  node.append(\"circle\")\n",
    "      .attr(\"class\", \"node_circle\")\n",
    "      .attr(\"r\", 8)\n",
    "      .style(\"fill\", function(d) { return color(d.group); });\n",
    "\n",
    "  node.append(\"text\")\n",
    "      .attr(\"class\", \"node_text\")\n",
    "      .attr(\"dx\", 12)\n",
    "      .attr(\"dy\", \".35em\")\n",
    "      .text(function(d) { return d.name });\n",
    "\n",
    "  node.append(\"title\")\n",
    "      .text(function(d) { return d.name; });\n",
    "\n",
    "  var node_text = svg.selectAll(\".node_text\");\n",
    "  var node_circle = svg.selectAll(\".node_circle\");\n",
    "    \n",
    "  force.on(\"tick\", function() {\n",
    "    link.attr(\"x1\", function(d) { return d.source.x; })\n",
    "        .attr(\"y1\", function(d) { return d.source.y; })\n",
    "        .attr(\"x2\", function(d) { return d.target.x; })\n",
    "        .attr(\"y2\", function(d) { return d.target.y; });\n",
    "\n",
    "    node_circle.attr(\"cx\", function(d) { return d.x; })\n",
    "        .attr(\"cy\", function(d) { return d.y; });\n",
    "      \n",
    "    node_text.attr(\"x\", function(d) { return d.x; })\n",
    "        .attr(\"y\", function(d) { return d.y; });\n",
    "  });\n",
    "});"
   ]
  },
  {
   "cell_type": "code",
   "execution_count": null,
   "metadata": {
    "collapsed": false
   },
   "outputs": [],
   "source": [
    "# ** Compute spectral co-clustering with the CoclustSpecMod approach **\n",
    "\n",
    "n_clusters = best_coclustMod_model.n_clusters\n",
    "# Perform co-clustering\n",
    "coclust_specMod_model = CoclustSpecMod(n_clusters=n_clusters, random_state=0)\n",
    "coclust_specMod_model.fit(doc_term_data['doc_term_matrix'])"
   ]
  },
  {
   "cell_type": "code",
   "execution_count": null,
   "metadata": {
    "collapsed": false
   },
   "outputs": [],
   "source": [
    "# ** Plot top terms for each cluster and the cluster sizes **\n",
    "\n",
    "n_terms = input_with_default_int('Number of top terms', 10)\n",
    "\n",
    "# --> top terms\n",
    "plot_cluster_top_terms(doc_term_data['doc_term_matrix'], doc_term_data['term_labels'], n_terms, coclust_specMod_model)\n",
    "# --> cluster sizes\n",
    "plot_cluster_sizes(coclust_specMod_model)"
   ]
  },
  {
   "cell_type": "code",
   "execution_count": null,
   "metadata": {
    "collapsed": false
   },
   "outputs": [],
   "source": [
    "# ** Compute co-clustering with the CoclustInfo approach **\n",
    "\n",
    "n_clusters = best_coclustMod_model.n_clusters\n",
    "n_rand_init = input_with_default_int('Number of random initialization', 1)\n",
    "# Perform co-clustering\n",
    "coclust_info_model = CoclustInfo(n_row_clusters = n_clusters, n_col_clusters = n_clusters,\n",
    "                                 n_init = n_rand_init, random_state = 0)\n",
    "coclust_info_model.fit(doc_term_data['doc_term_matrix'])"
   ]
  },
  {
   "cell_type": "code",
   "execution_count": null,
   "metadata": {
    "collapsed": false
   },
   "outputs": [],
   "source": [
    "## ** Plot top terms for each cluster and the cluster sizes **\n",
    "\n",
    "#n_terms = input_with_default_int('Number of top terms', 10)\n",
    "#\n",
    "## --> top terms\n",
    "#plot_cluster_top_terms(dt_coocurence_data, my_terms, n_terms, coclust_info_model)\n",
    "## --> cluster sizes\n",
    "#plot_cluster_sizes(coclust_info_model)"
   ]
  },
  {
   "cell_type": "code",
   "execution_count": null,
   "metadata": {
    "collapsed": false
   },
   "outputs": [],
   "source": [
    "# ** Compare clustering quality measure for coClustMod, coClustSpecMod and info **\n",
    "\n",
    "true_row_labels = doc_term_data['doc_labels']\n",
    "n_clusters = best_coclustMod_model.n_clusters\n",
    "\n",
    "## Evaluate the results for (Best) Modularity co-clustering\n",
    "print(10*'=')\n",
    "print(\"(Best) Modularity co-clustering\")\n",
    "print(5*'-')\n",
    "#print(\"CRITERION: %s\" % best_coclustMod_model.criterion)\n",
    "predicted_row_labels = best_coclustMod_model.row_labels_\n",
    "print_NMI_and_ARI(true_row_labels, predicted_row_labels)\n",
    "print_accuracy = accuracy(doc_term_data['doc_term_matrix'], n_clusters, true_row_labels, predicted_row_labels)\n",
    "print(\"ACCURACY: %s\" % print_accuracy)\n",
    "            \n",
    "## Evaluate the results for Spectral Modularity co-clustering\n",
    "print(10*'=')\n",
    "print(\"Spectral Modularity co-clustering\")\n",
    "print(5*'-')\n",
    "#print(\"CRITERION: %s\" % coclust_specMod_model.criterion)\n",
    "predicted_row_labels = coclust_specMod_model.row_labels_\n",
    "print_NMI_and_ARI(true_row_labels, predicted_row_labels)\n",
    "print_accuracy = accuracy(doc_term_data['doc_term_matrix'], n_clusters, true_row_labels, predicted_row_labels)\n",
    "print(\"ACCURACY: %s\" % print_accuracy)\n",
    "      \n",
    "## Evaluate the results for Info co-clustering\n",
    "print(10*'=')\n",
    "print(\"Info co-clustering\")\n",
    "print(5*'-')\n",
    "print(\"CRITERION: %s\" % coclust_info_model.criterion)\n",
    "predicted_row_labels = coclust_info_model.row_labels_\n",
    "print_NMI_and_ARI(true_row_labels, predicted_row_labels)\n",
    "print_accuracy = accuracy(doc_term_data['doc_term_matrix'], n_clusters, true_row_labels, predicted_row_labels)\n",
    "print(\"ACCURACY: %s\" % print_accuracy)"
   ]
  },
  {
   "cell_type": "code",
   "execution_count": null,
   "metadata": {
    "collapsed": true
   },
   "outputs": [],
   "source": []
  }
 ],
 "metadata": {
  "anaconda-cloud": {},
  "kernelspec": {
   "display_name": "Python [conda root]",
   "language": "python",
   "name": "conda-root-py"
  },
  "language_info": {
   "codemirror_mode": {
    "name": "ipython",
    "version": 3
   },
   "file_extension": ".py",
   "mimetype": "text/x-python",
   "name": "python",
   "nbconvert_exporter": "python",
   "pygments_lexer": "ipython3",
   "version": "3.5.2"
  }
 },
 "nbformat": 4,
 "nbformat_minor": 0
}
