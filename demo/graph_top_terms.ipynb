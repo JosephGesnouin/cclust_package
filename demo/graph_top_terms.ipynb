{
 "cells": [
  {
   "cell_type": "code",
   "execution_count": 2,
   "metadata": {
    "collapsed": true
   },
   "outputs": [],
   "source": [
    "from scipy.io import loadmat\n",
    "from coclust.CoclustMod import CoclustMod\n",
    "import numpy as np\n",
    "\n",
    "# Retrieve the CSTR document-term matrix from a matlab file\n",
    "file_name = \"../datasets/classic3.mat\"\n",
    "matlab_dict = loadmat(file_name)\n",
    "\n",
    "X = matlab_dict['A']\n",
    "\n",
    "model = CoclustMod(n_clusters=3, n_init=1, random_state=0)\n",
    "model.fit(X)\n",
    "\n",
    "terms = [str(x[0][0]) for x in matlab_dict['ms']]"
   ]
  },
  {
   "cell_type": "code",
   "execution_count": 6,
   "metadata": {
    "collapsed": true
   },
   "outputs": [],
   "source": [
    "def get_neighbors(sim, term_index, n_neighbors):\n",
    "    row = sim[term_index, :]\n",
    "    row = row.toarray()[0]\n",
    "    return row.argsort()[::-1][:n_neighbors]\n",
    "\n",
    "def get_all_neighbors(sim, top_terms_indices, n_neighbors):\n",
    "    neighbors = set()\n",
    "    for term_index in top_terms_indices:\n",
    "        neighbors = neighbors.union(set(get_neighbors(sim, term_index, n_neighbors)))\n",
    "    \n",
    "    return neighbors"
   ]
  },
  {
   "cell_type": "code",
   "execution_count": 7,
   "metadata": {
    "collapsed": true
   },
   "outputs": [],
   "source": [
    "def get_graph(X, model, terms, n_cluster, n_top_terms=10, n_neighbors=5):\n",
    "    row_indices, col_indices = model.get_indices(n_cluster)\n",
    "    cluster = model.get_submatrix(X, n_cluster)\n",
    "\n",
    "    # terms in the cluster\n",
    "    terms = np.array(terms)[col_indices]\n",
    "\n",
    "    sim = cluster.T * cluster\n",
    "    \n",
    "    p = cluster.sum(0)\n",
    "    t = p.getA().flatten()\n",
    "    # indices des termes avec le plus grand nombre d'occurences\n",
    "    top_terms_indices = t.argsort()[::-1][:n_top_terms]\n",
    "    \n",
    "    neighbors = get_all_neighbors(sim, top_terms_indices, n_neighbors)\n",
    "    \n",
    "    #TODO\n",
    "    #return neighbors\n",
    "\n",
    "    graph = {\"nodes\": [], \"links\": []}\n",
    "    i = 0\n",
    "    for top_term in top_terms_indices:\n",
    "        graph[\"nodes\"].append({\"name\": terms[top_term], \"group\": 0})\n",
    "        i = i + 1\n",
    "    \n",
    "    for neighbor in neighbors:\n",
    "        graph[\"nodes\"].append({\"name\": terms[neighbor], \"group\": 1})\n",
    "        i = i + 1\n",
    "    \n",
    "    # link: top_term -- neighbor\n",
    "    i = 0\n",
    "    for top_term in top_terms_indices:\n",
    "        j = 0\n",
    "        for neighbor in neighbors:\n",
    "            graph[\"links\"].append( {\"source\": i, \"target\": n_top_terms + j, \"value\": sim[top_term, neighbor]} )\n",
    "            j = j + 1\n",
    "        i = i + 1\n",
    "        \n",
    "    # link: top_term -- top_term\n",
    "    i = 0\n",
    "    for top_term in top_terms_indices:\n",
    "        j = 0\n",
    "        for top_term2 in top_terms_indices:\n",
    "            if i != j:\n",
    "                graph[\"links\"].append( {\"source\": i, \"target\": j, \"value\": sim[top_term, top_term2]} )\n",
    "            j = j + 1\n",
    "        i = i + 1\n",
    "    \n",
    "    return graph"
   ]
  },
  {
   "cell_type": "code",
   "execution_count": 15,
   "metadata": {
    "collapsed": false,
    "scrolled": true
   },
   "outputs": [],
   "source": [
    "graph = get_graph(X, model, terms, 1, 10, 5)"
   ]
  },
  {
   "cell_type": "code",
   "execution_count": 16,
   "metadata": {
    "collapsed": true
   },
   "outputs": [],
   "source": [
    "#TODO: remplacer graph par le vrai graphe\n",
    "\n",
    "import random\n",
    "n_nodes = 30\n",
    "p_edge = 0.05\n",
    "#graph = {\"nodes\": [], \"links\": []}\n",
    "for i in range(n_nodes):\n",
    "    graph[\"nodes\"].append( {\"name\": \"i\" + str(i), \"group\": int(random.uniform(1,11))} )\n",
    "for i in range(n_nodes):\n",
    "    for j in range(n_nodes):\n",
    "        if random.uniform(0,1) < p_edge:\n",
    "            graph[\"links\"].append( {\"source\": i, \"target\": j, \"value\": random.uniform(0.5,3)} )"
   ]
  },
  {
   "cell_type": "code",
   "execution_count": 11,
   "metadata": {
    "collapsed": false
   },
   "outputs": [
    {
     "data": {
      "application/javascript": [
       "require.config({\n",
       "  paths: {\n",
       "      d3: '//cdnjs.cloudflare.com/ajax/libs/d3/3.4.8/d3.min'\n",
       "  }\n",
       "});"
      ],
      "text/plain": [
       "<IPython.core.display.Javascript object>"
      ]
     },
     "metadata": {},
     "output_type": "display_data"
    }
   ],
   "source": [
    "%%javascript\n",
    "require.config({\n",
    "  paths: {\n",
    "      d3: '//cdnjs.cloudflare.com/ajax/libs/d3/3.4.8/d3.min'\n",
    "  }\n",
    "});"
   ]
  },
  {
   "cell_type": "code",
   "execution_count": 12,
   "metadata": {
    "collapsed": false
   },
   "outputs": [
    {
     "data": {
      "text/html": [
       "\n",
       "<style>\n",
       ".node_circle {\n",
       "  stroke: #fff;\n",
       "  stroke-width: 1.5px;\n",
       "}\n",
       "\n",
       ".link {\n",
       "  stroke: #999;\n",
       "  stroke-opacity: .6;\n",
       "}\n",
       "</style>\n"
      ],
      "text/plain": [
       "<IPython.core.display.HTML object>"
      ]
     },
     "execution_count": 12,
     "metadata": {},
     "output_type": "execute_result"
    }
   ],
   "source": [
    "from IPython.display import HTML\n",
    "HTML(\"\"\"\n",
    "<style>\n",
    ".node_circle {\n",
    "  stroke: #fff;\n",
    "  stroke-width: 1.5px;\n",
    "}\n",
    "\n",
    ".link {\n",
    "  stroke: #999;\n",
    "  stroke-opacity: .6;\n",
    "}\n",
    "</style>\n",
    "\"\"\")"
   ]
  },
  {
   "cell_type": "code",
   "execution_count": 18,
   "metadata": {
    "collapsed": false
   },
   "outputs": [
    {
     "data": {
      "application/javascript": [
       "\n",
       "           window.graph={'nodes': [{'name': 'patients', 'group': 0}, {'name': 'cells', 'group': 0}, {'name': 'cases', 'group': 0}, {'name': 'normal', 'group': 0}, {'name': 'growth', 'group': 0}, {'name': 'blood', 'group': 0}, {'name': 'treatment', 'group': 0}, {'name': 'cell', 'group': 0}, {'name': 'children', 'group': 0}, {'name': 'hormone', 'group': 0}, {'name': 'children', 'group': 1}, {'name': 'tissue', 'group': 1}, {'name': 'child', 'group': 1}, {'name': 'blood', 'group': 1}, {'name': 'therapy', 'group': 1}, {'name': 'type', 'group': 1}, {'name': 'lymphocytes', 'group': 1}, {'name': 'cell', 'group': 1}, {'name': 'hormone', 'group': 1}, {'name': 'cells', 'group': 1}, {'name': 'marrow', 'group': 1}, {'name': 'normal', 'group': 1}, {'name': 'ventricular', 'group': 1}, {'name': 'autistic', 'group': 1}, {'name': 'arterial', 'group': 1}, {'name': 'patients', 'group': 1}, {'name': 'plasma', 'group': 1}, {'name': 'hgh', 'group': 1}, {'name': 'treatment', 'group': 1}, {'name': 'cancer', 'group': 1}, {'name': 'cases', 'group': 1}, {'name': 'renal', 'group': 1}, {'name': 'human', 'group': 1}, {'name': 'rise', 'group': 1}, {'name': 'rats', 'group': 1}, {'name': 'serum', 'group': 1}, {'name': 'growth', 'group': 1}, {'name': 'group', 'group': 1}, {'name': 'dna', 'group': 1}, {'name': 'i0', 'group': 3}, {'name': 'i1', 'group': 5}, {'name': 'i2', 'group': 6}, {'name': 'i3', 'group': 8}, {'name': 'i4', 'group': 2}, {'name': 'i5', 'group': 3}, {'name': 'i6', 'group': 5}, {'name': 'i7', 'group': 10}, {'name': 'i8', 'group': 10}, {'name': 'i9', 'group': 3}, {'name': 'i10', 'group': 5}, {'name': 'i11', 'group': 3}, {'name': 'i12', 'group': 7}, {'name': 'i13', 'group': 1}, {'name': 'i14', 'group': 10}, {'name': 'i15', 'group': 5}, {'name': 'i16', 'group': 1}, {'name': 'i17', 'group': 4}, {'name': 'i18', 'group': 4}, {'name': 'i19', 'group': 2}, {'name': 'i20', 'group': 10}, {'name': 'i21', 'group': 10}, {'name': 'i22', 'group': 2}, {'name': 'i23', 'group': 6}, {'name': 'i24', 'group': 8}, {'name': 'i25', 'group': 6}, {'name': 'i26', 'group': 9}, {'name': 'i27', 'group': 2}, {'name': 'i28', 'group': 9}, {'name': 'i29', 'group': 6}], 'links': [{'target': 10, 'value': 129.0, 'source': 0}, {'target': 11, 'value': 43.0, 'source': 0}, {'target': 12, 'value': 24.0, 'source': 0}, {'target': 13, 'value': 227.0, 'source': 0}, {'target': 14, 'value': 379.0, 'source': 0}, {'target': 15, 'value': 82.0, 'source': 0}, {'target': 16, 'value': 2.0, 'source': 0}, {'target': 17, 'value': 30.0, 'source': 0}, {'target': 18, 'value': 158.0, 'source': 0}, {'target': 19, 'value': 36.0, 'source': 0}, {'target': 20, 'value': 28.0, 'source': 0}, {'target': 21, 'value': 328.0, 'source': 0}, {'target': 22, 'value': 262.0, 'source': 0}, {'target': 23, 'value': 24.0, 'source': 0}, {'target': 24, 'value': 138.0, 'source': 0}, {'target': 25, 'value': 2592.0, 'source': 0}, {'target': 26, 'value': 190.0, 'source': 0}, {'target': 27, 'value': 95.0, 'source': 0}, {'target': 28, 'value': 397.0, 'source': 0}, {'target': 29, 'value': 557.0, 'source': 0}, {'target': 30, 'value': 398.0, 'source': 0}, {'target': 31, 'value': 164.0, 'source': 0}, {'target': 32, 'value': 70.0, 'source': 0}, {'target': 33, 'value': 37.0, 'source': 0}, {'target': 34, 'value': 14.0, 'source': 0}, {'target': 35, 'value': 63.0, 'source': 0}, {'target': 36, 'value': 199.0, 'source': 0}, {'target': 37, 'value': 236.0, 'source': 0}, {'target': 38, 'value': 1.0, 'source': 0}, {'target': 10, 'value': 12.0, 'source': 1}, {'target': 11, 'value': 240.0, 'source': 1}, {'target': 12, 'value': 0.0, 'source': 1}, {'target': 13, 'value': 281.0, 'source': 1}, {'target': 14, 'value': 11.0, 'source': 1}, {'target': 15, 'value': 286.0, 'source': 1}, {'target': 16, 'value': 415.0, 'source': 1}, {'target': 17, 'value': 724.0, 'source': 1}, {'target': 18, 'value': 6.0, 'source': 1}, {'target': 19, 'value': 2934.0, 'source': 1}, {'target': 20, 'value': 603.0, 'source': 1}, {'target': 21, 'value': 316.0, 'source': 1}, {'target': 22, 'value': 5.0, 'source': 1}, {'target': 23, 'value': 0.0, 'source': 1}, {'target': 24, 'value': 8.0, 'source': 1}, {'target': 25, 'value': 36.0, 'source': 1}, {'target': 26, 'value': 64.0, 'source': 1}, {'target': 27, 'value': 0.0, 'source': 1}, {'target': 28, 'value': 38.0, 'source': 1}, {'target': 29, 'value': 83.0, 'source': 1}, {'target': 30, 'value': 88.0, 'source': 1}, {'target': 31, 'value': 68.0, 'source': 1}, {'target': 32, 'value': 300.0, 'source': 1}, {'target': 33, 'value': 13.0, 'source': 1}, {'target': 34, 'value': 114.0, 'source': 1}, {'target': 35, 'value': 108.0, 'source': 1}, {'target': 36, 'value': 196.0, 'source': 1}, {'target': 37, 'value': 73.0, 'source': 1}, {'target': 38, 'value': 424.0, 'source': 1}, {'target': 10, 'value': 118.0, 'source': 2}, {'target': 11, 'value': 53.0, 'source': 2}, {'target': 12, 'value': 42.0, 'source': 2}, {'target': 13, 'value': 88.0, 'source': 2}, {'target': 14, 'value': 75.0, 'source': 2}, {'target': 15, 'value': 167.0, 'source': 2}, {'target': 16, 'value': 54.0, 'source': 2}, {'target': 17, 'value': 42.0, 'source': 2}, {'target': 18, 'value': 28.0, 'source': 2}, {'target': 19, 'value': 88.0, 'source': 2}, {'target': 20, 'value': 1.0, 'source': 2}, {'target': 21, 'value': 156.0, 'source': 2}, {'target': 22, 'value': 284.0, 'source': 2}, {'target': 23, 'value': 25.0, 'source': 2}, {'target': 24, 'value': 25.0, 'source': 2}, {'target': 25, 'value': 398.0, 'source': 2}, {'target': 26, 'value': 142.0, 'source': 2}, {'target': 27, 'value': 6.0, 'source': 2}, {'target': 28, 'value': 130.0, 'source': 2}, {'target': 29, 'value': 86.0, 'source': 2}, {'target': 30, 'value': 1240.0, 'source': 2}, {'target': 31, 'value': 179.0, 'source': 2}, {'target': 32, 'value': 31.0, 'source': 2}, {'target': 33, 'value': 23.0, 'source': 2}, {'target': 34, 'value': 8.0, 'source': 2}, {'target': 35, 'value': 14.0, 'source': 2}, {'target': 36, 'value': 48.0, 'source': 2}, {'target': 37, 'value': 146.0, 'source': 2}, {'target': 38, 'value': 2.0, 'source': 2}, {'target': 10, 'value': 129.0, 'source': 3}, {'target': 11, 'value': 121.0, 'source': 3}, {'target': 12, 'value': 42.0, 'source': 3}, {'target': 13, 'value': 125.0, 'source': 3}, {'target': 14, 'value': 37.0, 'source': 3}, {'target': 15, 'value': 99.0, 'source': 3}, {'target': 16, 'value': 84.0, 'source': 3}, {'target': 17, 'value': 116.0, 'source': 3}, {'target': 18, 'value': 103.0, 'source': 3}, {'target': 19, 'value': 316.0, 'source': 3}, {'target': 20, 'value': 66.0, 'source': 3}, {'target': 21, 'value': 907.0, 'source': 3}, {'target': 22, 'value': 105.0, 'source': 3}, {'target': 23, 'value': 41.0, 'source': 3}, {'target': 24, 'value': 10.0, 'source': 3}, {'target': 25, 'value': 328.0, 'source': 3}, {'target': 26, 'value': 275.0, 'source': 3}, {'target': 27, 'value': 18.0, 'source': 3}, {'target': 28, 'value': 70.0, 'source': 3}, {'target': 29, 'value': 91.0, 'source': 3}, {'target': 30, 'value': 156.0, 'source': 3}, {'target': 31, 'value': 88.0, 'source': 3}, {'target': 32, 'value': 155.0, 'source': 3}, {'target': 33, 'value': 36.0, 'source': 3}, {'target': 34, 'value': 112.0, 'source': 3}, {'target': 35, 'value': 72.0, 'source': 3}, {'target': 36, 'value': 202.0, 'source': 3}, {'target': 37, 'value': 172.0, 'source': 3}, {'target': 38, 'value': 136.0, 'source': 3}, {'target': 10, 'value': 60.0, 'source': 4}, {'target': 11, 'value': 91.0, 'source': 4}, {'target': 12, 'value': 24.0, 'source': 4}, {'target': 13, 'value': 111.0, 'source': 4}, {'target': 14, 'value': 46.0, 'source': 4}, {'target': 15, 'value': 59.0, 'source': 4}, {'target': 16, 'value': 101.0, 'source': 4}, {'target': 17, 'value': 114.0, 'source': 4}, {'target': 18, 'value': 1049.0, 'source': 4}, {'target': 19, 'value': 196.0, 'source': 4}, {'target': 20, 'value': 8.0, 'source': 4}, {'target': 21, 'value': 202.0, 'source': 4}, {'target': 22, 'value': 1.0, 'source': 4}, {'target': 23, 'value': 1.0, 'source': 4}, {'target': 24, 'value': 7.0, 'source': 4}, {'target': 25, 'value': 199.0, 'source': 4}, {'target': 26, 'value': 107.0, 'source': 4}, {'target': 27, 'value': 240.0, 'source': 4}, {'target': 28, 'value': 201.0, 'source': 4}, {'target': 29, 'value': 17.0, 'source': 4}, {'target': 30, 'value': 48.0, 'source': 4}, {'target': 31, 'value': 15.0, 'source': 4}, {'target': 32, 'value': 298.0, 'source': 4}, {'target': 33, 'value': 33.0, 'source': 4}, {'target': 34, 'value': 248.0, 'source': 4}, {'target': 35, 'value': 228.0, 'source': 4}, {'target': 36, 'value': 1825.0, 'source': 4}, {'target': 37, 'value': 21.0, 'source': 4}, {'target': 38, 'value': 57.0, 'source': 4}, {'target': 10, 'value': 16.0, 'source': 5}, {'target': 11, 'value': 45.0, 'source': 5}, {'target': 12, 'value': 4.0, 'source': 5}, {'target': 13, 'value': 1077.0, 'source': 5}, {'target': 14, 'value': 30.0, 'source': 5}, {'target': 15, 'value': 42.0, 'source': 5}, {'target': 16, 'value': 95.0, 'source': 5}, {'target': 17, 'value': 33.0, 'source': 5}, {'target': 18, 'value': 70.0, 'source': 5}, {'target': 19, 'value': 281.0, 'source': 5}, {'target': 20, 'value': 139.0, 'source': 5}, {'target': 21, 'value': 125.0, 'source': 5}, {'target': 22, 'value': 74.0, 'source': 5}, {'target': 23, 'value': 0.0, 'source': 5}, {'target': 24, 'value': 189.0, 'source': 5}, {'target': 25, 'value': 227.0, 'source': 5}, {'target': 26, 'value': 143.0, 'source': 5}, {'target': 27, 'value': 29.0, 'source': 5}, {'target': 28, 'value': 73.0, 'source': 5}, {'target': 29, 'value': 12.0, 'source': 5}, {'target': 30, 'value': 88.0, 'source': 5}, {'target': 31, 'value': 46.0, 'source': 5}, {'target': 32, 'value': 48.0, 'source': 5}, {'target': 33, 'value': 187.0, 'source': 5}, {'target': 34, 'value': 40.0, 'source': 5}, {'target': 35, 'value': 66.0, 'source': 5}, {'target': 36, 'value': 111.0, 'source': 5}, {'target': 37, 'value': 39.0, 'source': 5}, {'target': 38, 'value': 2.0, 'source': 5}, {'target': 10, 'value': 185.0, 'source': 6}, {'target': 11, 'value': 29.0, 'source': 6}, {'target': 12, 'value': 151.0, 'source': 6}, {'target': 13, 'value': 73.0, 'source': 6}, {'target': 14, 'value': 175.0, 'source': 6}, {'target': 15, 'value': 19.0, 'source': 6}, {'target': 16, 'value': 0.0, 'source': 6}, {'target': 17, 'value': 24.0, 'source': 6}, {'target': 18, 'value': 122.0, 'source': 6}, {'target': 19, 'value': 38.0, 'source': 6}, {'target': 20, 'value': 4.0, 'source': 6}, {'target': 21, 'value': 70.0, 'source': 6}, {'target': 22, 'value': 19.0, 'source': 6}, {'target': 23, 'value': 33.0, 'source': 6}, {'target': 24, 'value': 24.0, 'source': 6}, {'target': 25, 'value': 397.0, 'source': 6}, {'target': 26, 'value': 49.0, 'source': 6}, {'target': 27, 'value': 64.0, 'source': 6}, {'target': 28, 'value': 683.0, 'source': 6}, {'target': 29, 'value': 140.0, 'source': 6}, {'target': 30, 'value': 130.0, 'source': 6}, {'target': 31, 'value': 27.0, 'source': 6}, {'target': 32, 'value': 77.0, 'source': 6}, {'target': 33, 'value': 13.0, 'source': 6}, {'target': 34, 'value': 22.0, 'source': 6}, {'target': 35, 'value': 26.0, 'source': 6}, {'target': 36, 'value': 201.0, 'source': 6}, {'target': 37, 'value': 67.0, 'source': 6}, {'target': 38, 'value': 36.0, 'source': 6}, {'target': 10, 'value': 3.0, 'source': 7}, {'target': 11, 'value': 199.0, 'source': 7}, {'target': 12, 'value': 0.0, 'source': 7}, {'target': 13, 'value': 33.0, 'source': 7}, {'target': 14, 'value': 6.0, 'source': 7}, {'target': 15, 'value': 109.0, 'source': 7}, {'target': 16, 'value': 79.0, 'source': 7}, {'target': 17, 'value': 857.0, 'source': 7}, {'target': 18, 'value': 17.0, 'source': 7}, {'target': 19, 'value': 724.0, 'source': 7}, {'target': 20, 'value': 81.0, 'source': 7}, {'target': 21, 'value': 116.0, 'source': 7}, {'target': 22, 'value': 5.0, 'source': 7}, {'target': 23, 'value': 0.0, 'source': 7}, {'target': 24, 'value': 3.0, 'source': 7}, {'target': 25, 'value': 30.0, 'source': 7}, {'target': 26, 'value': 77.0, 'source': 7}, {'target': 27, 'value': 0.0, 'source': 7}, {'target': 28, 'value': 24.0, 'source': 7}, {'target': 29, 'value': 78.0, 'source': 7}, {'target': 30, 'value': 42.0, 'source': 7}, {'target': 31, 'value': 69.0, 'source': 7}, {'target': 32, 'value': 161.0, 'source': 7}, {'target': 33, 'value': 2.0, 'source': 7}, {'target': 34, 'value': 81.0, 'source': 7}, {'target': 35, 'value': 42.0, 'source': 7}, {'target': 36, 'value': 114.0, 'source': 7}, {'target': 37, 'value': 16.0, 'source': 7}, {'target': 38, 'value': 202.0, 'source': 7}, {'target': 10, 'value': 1051.0, 'source': 8}, {'target': 11, 'value': 4.0, 'source': 8}, {'target': 12, 'value': 185.0, 'source': 8}, {'target': 13, 'value': 16.0, 'source': 8}, {'target': 14, 'value': 31.0, 'source': 8}, {'target': 15, 'value': 34.0, 'source': 8}, {'target': 16, 'value': 0.0, 'source': 8}, {'target': 17, 'value': 3.0, 'source': 8}, {'target': 18, 'value': 31.0, 'source': 8}, {'target': 19, 'value': 12.0, 'source': 8}, {'target': 20, 'value': 2.0, 'source': 8}, {'target': 21, 'value': 129.0, 'source': 8}, {'target': 22, 'value': 16.0, 'source': 8}, {'target': 23, 'value': 223.0, 'source': 8}, {'target': 24, 'value': 3.0, 'source': 8}, {'target': 25, 'value': 129.0, 'source': 8}, {'target': 26, 'value': 4.0, 'source': 8}, {'target': 27, 'value': 36.0, 'source': 8}, {'target': 28, 'value': 185.0, 'source': 8}, {'target': 29, 'value': 6.0, 'source': 8}, {'target': 30, 'value': 118.0, 'source': 8}, {'target': 31, 'value': 12.0, 'source': 8}, {'target': 32, 'value': 50.0, 'source': 8}, {'target': 33, 'value': 8.0, 'source': 8}, {'target': 34, 'value': 1.0, 'source': 8}, {'target': 35, 'value': 11.0, 'source': 8}, {'target': 36, 'value': 60.0, 'source': 8}, {'target': 37, 'value': 225.0, 'source': 8}, {'target': 38, 'value': 0.0, 'source': 8}, {'target': 10, 'value': 31.0, 'source': 9}, {'target': 11, 'value': 42.0, 'source': 9}, {'target': 12, 'value': 8.0, 'source': 9}, {'target': 13, 'value': 70.0, 'source': 9}, {'target': 14, 'value': 48.0, 'source': 9}, {'target': 15, 'value': 5.0, 'source': 9}, {'target': 16, 'value': 0.0, 'source': 9}, {'target': 17, 'value': 17.0, 'source': 9}, {'target': 18, 'value': 1119.0, 'source': 9}, {'target': 19, 'value': 6.0, 'source': 9}, {'target': 20, 'value': 2.0, 'source': 9}, {'target': 21, 'value': 103.0, 'source': 9}, {'target': 22, 'value': 0.0, 'source': 9}, {'target': 23, 'value': 0.0, 'source': 9}, {'target': 24, 'value': 0.0, 'source': 9}, {'target': 25, 'value': 158.0, 'source': 9}, {'target': 26, 'value': 168.0, 'source': 9}, {'target': 27, 'value': 156.0, 'source': 9}, {'target': 28, 'value': 122.0, 'source': 9}, {'target': 29, 'value': 13.0, 'source': 9}, {'target': 30, 'value': 28.0, 'source': 9}, {'target': 31, 'value': 56.0, 'source': 9}, {'target': 32, 'value': 166.0, 'source': 9}, {'target': 33, 'value': 43.0, 'source': 9}, {'target': 34, 'value': 150.0, 'source': 9}, {'target': 35, 'value': 180.0, 'source': 9}, {'target': 36, 'value': 1049.0, 'source': 9}, {'target': 37, 'value': 28.0, 'source': 9}, {'target': 38, 'value': 7.0, 'source': 9}, {'target': 1, 'value': 36.0, 'source': 0}, {'target': 2, 'value': 398.0, 'source': 0}, {'target': 3, 'value': 328.0, 'source': 0}, {'target': 4, 'value': 199.0, 'source': 0}, {'target': 5, 'value': 227.0, 'source': 0}, {'target': 6, 'value': 397.0, 'source': 0}, {'target': 7, 'value': 30.0, 'source': 0}, {'target': 8, 'value': 129.0, 'source': 0}, {'target': 9, 'value': 158.0, 'source': 0}, {'target': 0, 'value': 36.0, 'source': 1}, {'target': 2, 'value': 88.0, 'source': 1}, {'target': 3, 'value': 316.0, 'source': 1}, {'target': 4, 'value': 196.0, 'source': 1}, {'target': 5, 'value': 281.0, 'source': 1}, {'target': 6, 'value': 38.0, 'source': 1}, {'target': 7, 'value': 724.0, 'source': 1}, {'target': 8, 'value': 12.0, 'source': 1}, {'target': 9, 'value': 6.0, 'source': 1}, {'target': 0, 'value': 398.0, 'source': 2}, {'target': 1, 'value': 88.0, 'source': 2}, {'target': 3, 'value': 156.0, 'source': 2}, {'target': 4, 'value': 48.0, 'source': 2}, {'target': 5, 'value': 88.0, 'source': 2}, {'target': 6, 'value': 130.0, 'source': 2}, {'target': 7, 'value': 42.0, 'source': 2}, {'target': 8, 'value': 118.0, 'source': 2}, {'target': 9, 'value': 28.0, 'source': 2}, {'target': 0, 'value': 328.0, 'source': 3}, {'target': 1, 'value': 316.0, 'source': 3}, {'target': 2, 'value': 156.0, 'source': 3}, {'target': 4, 'value': 202.0, 'source': 3}, {'target': 5, 'value': 125.0, 'source': 3}, {'target': 6, 'value': 70.0, 'source': 3}, {'target': 7, 'value': 116.0, 'source': 3}, {'target': 8, 'value': 129.0, 'source': 3}, {'target': 9, 'value': 103.0, 'source': 3}, {'target': 0, 'value': 199.0, 'source': 4}, {'target': 1, 'value': 196.0, 'source': 4}, {'target': 2, 'value': 48.0, 'source': 4}, {'target': 3, 'value': 202.0, 'source': 4}, {'target': 5, 'value': 111.0, 'source': 4}, {'target': 6, 'value': 201.0, 'source': 4}, {'target': 7, 'value': 114.0, 'source': 4}, {'target': 8, 'value': 60.0, 'source': 4}, {'target': 9, 'value': 1049.0, 'source': 4}, {'target': 0, 'value': 227.0, 'source': 5}, {'target': 1, 'value': 281.0, 'source': 5}, {'target': 2, 'value': 88.0, 'source': 5}, {'target': 3, 'value': 125.0, 'source': 5}, {'target': 4, 'value': 111.0, 'source': 5}, {'target': 6, 'value': 73.0, 'source': 5}, {'target': 7, 'value': 33.0, 'source': 5}, {'target': 8, 'value': 16.0, 'source': 5}, {'target': 9, 'value': 70.0, 'source': 5}, {'target': 0, 'value': 397.0, 'source': 6}, {'target': 1, 'value': 38.0, 'source': 6}, {'target': 2, 'value': 130.0, 'source': 6}, {'target': 3, 'value': 70.0, 'source': 6}, {'target': 4, 'value': 201.0, 'source': 6}, {'target': 5, 'value': 73.0, 'source': 6}, {'target': 7, 'value': 24.0, 'source': 6}, {'target': 8, 'value': 185.0, 'source': 6}, {'target': 9, 'value': 122.0, 'source': 6}, {'target': 0, 'value': 30.0, 'source': 7}, {'target': 1, 'value': 724.0, 'source': 7}, {'target': 2, 'value': 42.0, 'source': 7}, {'target': 3, 'value': 116.0, 'source': 7}, {'target': 4, 'value': 114.0, 'source': 7}, {'target': 5, 'value': 33.0, 'source': 7}, {'target': 6, 'value': 24.0, 'source': 7}, {'target': 8, 'value': 3.0, 'source': 7}, {'target': 9, 'value': 17.0, 'source': 7}, {'target': 0, 'value': 129.0, 'source': 8}, {'target': 1, 'value': 12.0, 'source': 8}, {'target': 2, 'value': 118.0, 'source': 8}, {'target': 3, 'value': 129.0, 'source': 8}, {'target': 4, 'value': 60.0, 'source': 8}, {'target': 5, 'value': 16.0, 'source': 8}, {'target': 6, 'value': 185.0, 'source': 8}, {'target': 7, 'value': 3.0, 'source': 8}, {'target': 9, 'value': 31.0, 'source': 8}, {'target': 0, 'value': 158.0, 'source': 9}, {'target': 1, 'value': 6.0, 'source': 9}, {'target': 2, 'value': 28.0, 'source': 9}, {'target': 3, 'value': 103.0, 'source': 9}, {'target': 4, 'value': 1049.0, 'source': 9}, {'target': 5, 'value': 70.0, 'source': 9}, {'target': 6, 'value': 122.0, 'source': 9}, {'target': 7, 'value': 17.0, 'source': 9}, {'target': 8, 'value': 31.0, 'source': 9}, {'target': 1, 'value': 1.3770174661280281, 'source': 1}, {'target': 21, 'value': 1.8975114666275372, 'source': 1}, {'target': 26, 'value': 2.2609347920206178, 'source': 1}, {'target': 29, 'value': 1.852376125062198, 'source': 1}, {'target': 7, 'value': 0.7774404772930492, 'source': 2}, {'target': 18, 'value': 1.9178391204607796, 'source': 3}, {'target': 10, 'value': 2.9067497604634642, 'source': 4}, {'target': 16, 'value': 1.6485614616499242, 'source': 4}, {'target': 19, 'value': 2.8213042562986494, 'source': 4}, {'target': 29, 'value': 1.8664799036545072, 'source': 5}, {'target': 17, 'value': 1.5883355197765527, 'source': 6}, {'target': 23, 'value': 2.7593873286446686, 'source': 7}, {'target': 15, 'value': 1.6220629321593354, 'source': 9}, {'target': 29, 'value': 1.0686548144084225, 'source': 9}, {'target': 9, 'value': 0.5849164006328953, 'source': 10}, {'target': 29, 'value': 2.3032202189763926, 'source': 10}, {'target': 2, 'value': 1.4874902578944498, 'source': 11}, {'target': 3, 'value': 1.311544807341121, 'source': 14}, {'target': 3, 'value': 2.707137253901295, 'source': 15}, {'target': 4, 'value': 0.9734715485657084, 'source': 15}, {'target': 4, 'value': 1.352893598659687, 'source': 17}, {'target': 9, 'value': 1.529499756761418, 'source': 17}, {'target': 23, 'value': 1.8965676100870748, 'source': 17}, {'target': 27, 'value': 2.084160635659234, 'source': 17}, {'target': 0, 'value': 1.2573413486631932, 'source': 19}, {'target': 4, 'value': 0.6618253729668551, 'source': 20}, {'target': 5, 'value': 0.9877483023416143, 'source': 20}, {'target': 9, 'value': 0.5425129214901256, 'source': 20}, {'target': 12, 'value': 2.437993525141346, 'source': 20}, {'target': 14, 'value': 0.7721118949065913, 'source': 23}, {'target': 19, 'value': 1.7398935131146658, 'source': 23}, {'target': 12, 'value': 1.1807168495306581, 'source': 24}, {'target': 14, 'value': 1.2385674024042352, 'source': 24}, {'target': 14, 'value': 0.67214056747207, 'source': 25}, {'target': 8, 'value': 2.8079162088970615, 'source': 26}, {'target': 12, 'value': 1.9555529118174713, 'source': 26}, {'target': 27, 'value': 0.6971093319182937, 'source': 26}, {'target': 18, 'value': 1.7260197733773928, 'source': 27}, {'target': 21, 'value': 1.458741303641625, 'source': 27}, {'target': 0, 'value': 2.7713160280674507, 'source': 29}, {'target': 1, 'value': 1.9234295853534065, 'source': 29}, {'target': 19, 'value': 0.7825752894898637, 'source': 29}]};\n",
       "           "
      ],
      "text/plain": [
       "<IPython.core.display.Javascript object>"
      ]
     },
     "execution_count": 18,
     "metadata": {},
     "output_type": "execute_result"
    }
   ],
   "source": [
    "from IPython.display import Javascript\n",
    "#runs arbitrary javascript, client-side\n",
    "Javascript(\"\"\"\n",
    "           window.graph={};\n",
    "           \"\"\".format(graph))"
   ]
  },
  {
   "cell_type": "code",
   "execution_count": 28,
   "metadata": {
    "collapsed": false
   },
   "outputs": [
    {
     "data": {
      "application/javascript": [
       "require(['d3'], function(d3){\n",
       "  //a weird idempotency thing\n",
       "  $(\"#chart1\").remove();\n",
       "  //create canvas\n",
       "  element.append(\"<div id='chart1'></div>\");\n",
       "  $(\"#chart1\").width(\"1160px\");\n",
       "  $(\"#chart1\").height(\"800px\");        \n",
       "  var margin = {top: 20, right: 20, bottom: 30, left: 40};\n",
       "  var width = 1280 - margin.left - margin.right;\n",
       "  var height = 800 - margin.top - margin.bottom;\n",
       "  var svg = d3.select(\"#chart1\").append(\"svg\")\n",
       "    .style(\"position\", \"relative\")\n",
       "    .style(\"max-width\", \"960px\")\n",
       "    .attr(\"width\", width + \"px\")\n",
       "    .attr(\"height\", (height + 50) + \"px\")\n",
       "    .append(\"g\")\n",
       "    .attr(\"transform\", \"translate(\" + margin.left + \",\" + margin.top + \")\");\n",
       "\n",
       "var color = d3.scale.category20();\n",
       "\n",
       "var force = d3.layout.force()\n",
       "    .charge(-800)\n",
       "    .linkDistance(600)\n",
       "    .size([width, height]);\n",
       "\n",
       "var graph = window.graph;\n",
       "\n",
       "  force\n",
       "      .nodes(graph.nodes)\n",
       "      .links(graph.links)\n",
       "      .start();\n",
       "\n",
       "  var link = svg.selectAll(\".link\")\n",
       "      .data(graph.links)\n",
       "      .enter().append(\"line\")\n",
       "      .attr(\"class\", \"link\")\n",
       "      .style(\"stroke\", \"#999;\")\n",
       "      .style(\"stroke-width\", function(d) { return Math.sqrt(d.value); });\n",
       "\n",
       "  var node = svg.selectAll(\".node\")\n",
       "      .data(graph.nodes)\n",
       "      .enter().append(\"g\")\n",
       "      .attr(\"class\", \"node\")\n",
       "      .call(force.drag);\n",
       "    \n",
       "  node.append(\"circle\")\n",
       "      .attr(\"class\", \"node_circle\")\n",
       "      .attr(\"r\", 8)\n",
       "      .style(\"fill\", function(d) { return color(d.group); });\n",
       "\n",
       "  node.append(\"text\")\n",
       "      .attr(\"class\", \"node_text\")\n",
       "      .attr(\"dx\", 12)\n",
       "      .attr(\"dy\", \".35em\")\n",
       "      .text(function(d) { return d.name });\n",
       "\n",
       "  node.append(\"title\")\n",
       "      .text(function(d) { return d.name; });\n",
       "\n",
       "  var node_text = svg.selectAll(\".node_text\");\n",
       "  var node_circle = svg.selectAll(\".node_circle\");\n",
       "    \n",
       "  force.on(\"tick\", function() {\n",
       "    link.attr(\"x1\", function(d) { return d.source.x; })\n",
       "        .attr(\"y1\", function(d) { return d.source.y; })\n",
       "        .attr(\"x2\", function(d) { return d.target.x; })\n",
       "        .attr(\"y2\", function(d) { return d.target.y; });\n",
       "\n",
       "    node_circle.attr(\"cx\", function(d) { return d.x; })\n",
       "        .attr(\"cy\", function(d) { return d.y; });\n",
       "      \n",
       "    node_text.attr(\"x\", function(d) { return d.x; })\n",
       "        .attr(\"y\", function(d) { return d.y; });\n",
       "  });\n",
       "\n",
       "\n",
       "});"
      ],
      "text/plain": [
       "<IPython.core.display.Javascript object>"
      ]
     },
     "metadata": {},
     "output_type": "display_data"
    }
   ],
   "source": [
    "%%javascript\n",
    "require(['d3'], function(d3){\n",
    "  //a weird idempotency thing\n",
    "  $(\"#chart1\").remove();\n",
    "  //create canvas\n",
    "  element.append(\"<div id='chart1'></div>\");\n",
    "  $(\"#chart1\").width(\"1160px\");\n",
    "  $(\"#chart1\").height(\"800px\");        \n",
    "  var margin = {top: 20, right: 20, bottom: 30, left: 40};\n",
    "  var width = 1280 - margin.left - margin.right;\n",
    "  var height = 800 - margin.top - margin.bottom;\n",
    "  var svg = d3.select(\"#chart1\").append(\"svg\")\n",
    "    .style(\"position\", \"relative\")\n",
    "    .style(\"max-width\", \"960px\")\n",
    "    .attr(\"width\", width + \"px\")\n",
    "    .attr(\"height\", (height + 50) + \"px\")\n",
    "    .append(\"g\")\n",
    "    .attr(\"transform\", \"translate(\" + margin.left + \",\" + margin.top + \")\");\n",
    "\n",
    "var color = d3.scale.category20();\n",
    "\n",
    "var force = d3.layout.force()\n",
    "    .charge(-800)\n",
    "    .linkDistance(600)\n",
    "    .size([width, height]);\n",
    "\n",
    "var graph = window.graph;\n",
    "\n",
    "  force\n",
    "      .nodes(graph.nodes)\n",
    "      .links(graph.links)\n",
    "      .start();\n",
    "\n",
    "  var link = svg.selectAll(\".link\")\n",
    "      .data(graph.links)\n",
    "      .enter().append(\"line\")\n",
    "      .attr(\"class\", \"link\")\n",
    "      .style(\"stroke\", \"#999;\")\n",
    "      .style(\"stroke-width\", function(d) { return Math.sqrt(d.value); });\n",
    "\n",
    "  var node = svg.selectAll(\".node\")\n",
    "      .data(graph.nodes)\n",
    "      .enter().append(\"g\")\n",
    "      .attr(\"class\", \"node\")\n",
    "      .call(force.drag);\n",
    "    \n",
    "  node.append(\"circle\")\n",
    "      .attr(\"class\", \"node_circle\")\n",
    "      .attr(\"r\", 8)\n",
    "      .style(\"fill\", function(d) { return color(d.group); });\n",
    "\n",
    "  node.append(\"text\")\n",
    "      .attr(\"class\", \"node_text\")\n",
    "      .attr(\"dx\", 12)\n",
    "      .attr(\"dy\", \".35em\")\n",
    "      .text(function(d) { return d.name });\n",
    "\n",
    "  node.append(\"title\")\n",
    "      .text(function(d) { return d.name; });\n",
    "\n",
    "  var node_text = svg.selectAll(\".node_text\");\n",
    "  var node_circle = svg.selectAll(\".node_circle\");\n",
    "    \n",
    "  force.on(\"tick\", function() {\n",
    "    link.attr(\"x1\", function(d) { return d.source.x; })\n",
    "        .attr(\"y1\", function(d) { return d.source.y; })\n",
    "        .attr(\"x2\", function(d) { return d.target.x; })\n",
    "        .attr(\"y2\", function(d) { return d.target.y; });\n",
    "\n",
    "    node_circle.attr(\"cx\", function(d) { return d.x; })\n",
    "        .attr(\"cy\", function(d) { return d.y; });\n",
    "      \n",
    "    node_text.attr(\"x\", function(d) { return d.x; })\n",
    "        .attr(\"y\", function(d) { return d.y; });\n",
    "  });\n",
    "\n",
    "\n",
    "});"
   ]
  },
  {
   "cell_type": "code",
   "execution_count": null,
   "metadata": {
    "collapsed": true
   },
   "outputs": [],
   "source": []
  }
 ],
 "metadata": {
  "kernelspec": {
   "display_name": "Python 3",
   "language": "python",
   "name": "python3"
  },
  "language_info": {
   "codemirror_mode": {
    "name": "ipython",
    "version": 3
   },
   "file_extension": ".py",
   "mimetype": "text/x-python",
   "name": "python",
   "nbconvert_exporter": "python",
   "pygments_lexer": "ipython3",
   "version": "3.4.4"
  }
 },
 "nbformat": 4,
 "nbformat_minor": 0
}
