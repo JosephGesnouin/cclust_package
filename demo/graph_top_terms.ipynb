{
 "cells": [
  {
   "cell_type": "code",
   "execution_count": 1,
   "metadata": {
    "collapsed": true
   },
   "outputs": [],
   "source": [
    "from scipy.io import loadmat\n",
    "from coclust.CoclustMod import CoclustMod\n",
    "import numpy as np\n",
    "\n",
    "# Retrieve the CSTR document-term matrix from a matlab file\n",
    "file_name = \"../datasets/classic3.mat\"\n",
    "matlab_dict = loadmat(file_name)\n",
    "\n",
    "X = matlab_dict['A']\n",
    "\n",
    "model = CoclustMod(n_clusters=3, n_init=1, random_state=0)\n",
    "model.fit(X)\n",
    "\n",
    "terms = [str(x[0][0]) for x in matlab_dict['ms']]"
   ]
  },
  {
   "cell_type": "code",
   "execution_count": 2,
   "metadata": {
    "collapsed": true
   },
   "outputs": [],
   "source": [
    "def get_neighbors(sim, term_index, n_neighbors):\n",
    "    row = sim[term_index, :]\n",
    "    row = row.toarray()[0]\n",
    "    return row.argsort()[::-1][:n_neighbors]\n",
    "\n",
    "def get_all_neighbors(sim, top_terms_indices, n_neighbors):\n",
    "    neighbors = set()\n",
    "    for term_index in top_terms_indices:\n",
    "        neighbors = neighbors.union(set(get_neighbors(sim, term_index, n_neighbors)))\n",
    "    \n",
    "    return neighbors"
   ]
  },
  {
   "cell_type": "code",
   "execution_count": 3,
   "metadata": {
    "collapsed": true
   },
   "outputs": [],
   "source": [
    "def get_graph(X, model, terms, n_cluster, n_top_terms=10, n_neighbors=5):\n",
    "    row_indices, col_indices = model.get_indices(n_cluster)\n",
    "    cluster = model.get_submatrix(X, n_cluster)\n",
    "\n",
    "    # terms in the cluster\n",
    "    terms = np.array(terms)[col_indices]\n",
    "\n",
    "    sim = cluster.T * cluster\n",
    "    \n",
    "    p = cluster.sum(0)\n",
    "    t = p.getA().flatten()\n",
    "    # indices des termes avec le plus grand nombre d'occurences\n",
    "    top_terms_indices = t.argsort()[::-1][:n_top_terms]\n",
    "    \n",
    "    neighbors = get_all_neighbors(sim, top_terms_indices, n_neighbors)\n",
    "    \n",
    "    #TODO\n",
    "    #return neighbors\n",
    "\n",
    "    graph = {\"nodes\": [], \"links\": []}\n",
    "    i = 0\n",
    "    for top_term in top_terms_indices:\n",
    "        graph[\"nodes\"].append({\"name\": terms[top_term], \"group\": 0})\n",
    "        i = i + 1\n",
    "    \n",
    "    for neighbor in neighbors:\n",
    "        graph[\"nodes\"].append({\"name\": terms[neighbor], \"group\": 1})\n",
    "        i = i + 1\n",
    "    \n",
    "    # link: top_term -- neighbor\n",
    "    i = 0\n",
    "    for top_term in top_terms_indices:\n",
    "        j = 0\n",
    "        for neighbor in neighbors:\n",
    "            graph[\"links\"].append( {\"source\": i, \"target\": n_top_terms + j, \"value\": sim[top_term, neighbor]} )\n",
    "            j = j + 1\n",
    "        i = i + 1\n",
    "        \n",
    "    # link: top_term -- top_term\n",
    "    i = 0\n",
    "    for top_term in top_terms_indices:\n",
    "        j = 0\n",
    "        for top_term2 in top_terms_indices:\n",
    "            if i != j:\n",
    "                graph[\"links\"].append( {\"source\": i, \"target\": j, \"value\": sim[top_term, top_term2]} )\n",
    "            j = j + 1\n",
    "        i = i + 1\n",
    "    \n",
    "    return graph"
   ]
  },
  {
   "cell_type": "code",
   "execution_count": 4,
   "metadata": {
    "collapsed": false,
    "scrolled": true
   },
   "outputs": [],
   "source": [
    "graph = get_graph(X, model, terms, 1, 10, 5)"
   ]
  },
  {
   "cell_type": "code",
   "execution_count": 5,
   "metadata": {
    "collapsed": true
   },
   "outputs": [],
   "source": [
    "#TODO: remplacer graph par le vrai graphe\n",
    "\n",
    "import random\n",
    "n_nodes = 30\n",
    "p_edge = 0.05\n",
    "graph = {\"nodes\": [], \"links\": []}\n",
    "for i in range(n_nodes):\n",
    "    graph[\"nodes\"].append( {\"name\": \"i\" + str(i), \"group\": int(random.uniform(1,11))} )\n",
    "for i in range(n_nodes):\n",
    "    for j in range(n_nodes):\n",
    "        if random.uniform(0,1) < p_edge:\n",
    "            graph[\"links\"].append( {\"source\": i, \"target\": j, \"value\": random.uniform(0.5,3)} )"
   ]
  },
  {
   "cell_type": "code",
   "execution_count": 6,
   "metadata": {
    "collapsed": false
   },
   "outputs": [
    {
     "data": {
      "application/javascript": [
       "require.config({\n",
       "  paths: {\n",
       "      d3: '//cdnjs.cloudflare.com/ajax/libs/d3/3.4.8/d3.min'\n",
       "  }\n",
       "});"
      ],
      "text/plain": [
       "<IPython.core.display.Javascript object>"
      ]
     },
     "metadata": {},
     "output_type": "display_data"
    }
   ],
   "source": [
    "%%javascript\n",
    "require.config({\n",
    "  paths: {\n",
    "      d3: '//cdnjs.cloudflare.com/ajax/libs/d3/3.4.8/d3.min'\n",
    "  }\n",
    "});"
   ]
  },
  {
   "cell_type": "code",
   "execution_count": 7,
   "metadata": {
    "collapsed": false
   },
   "outputs": [
    {
     "data": {
      "text/html": [
       "\n",
       "<style>\n",
       ".node_circle {\n",
       "  stroke: #fff;\n",
       "  stroke-width: 1.5px;\n",
       "}\n",
       "\n",
       ".link {\n",
       "  stroke: #999;\n",
       "  stroke-opacity: .6;\n",
       "}\n",
       "</style>\n"
      ],
      "text/plain": [
       "<IPython.core.display.HTML object>"
      ]
     },
     "execution_count": 7,
     "metadata": {},
     "output_type": "execute_result"
    }
   ],
   "source": [
    "from IPython.display import HTML\n",
    "HTML(\"\"\"\n",
    "<style>\n",
    ".node_circle {\n",
    "  stroke: #fff;\n",
    "  stroke-width: 1.5px;\n",
    "}\n",
    "\n",
    ".link {\n",
    "  stroke: #999;\n",
    "  stroke-opacity: .6;\n",
    "}\n",
    "</style>\n",
    "\"\"\")"
   ]
  },
  {
   "cell_type": "code",
   "execution_count": 8,
   "metadata": {
    "collapsed": false
   },
   "outputs": [
    {
     "data": {
      "application/javascript": [
       "\n",
       "           window.graph={'nodes': [{'group': 10, 'name': 'i0'}, {'group': 10, 'name': 'i1'}, {'group': 10, 'name': 'i2'}, {'group': 5, 'name': 'i3'}, {'group': 3, 'name': 'i4'}, {'group': 7, 'name': 'i5'}, {'group': 6, 'name': 'i6'}, {'group': 8, 'name': 'i7'}, {'group': 10, 'name': 'i8'}, {'group': 5, 'name': 'i9'}, {'group': 5, 'name': 'i10'}, {'group': 10, 'name': 'i11'}, {'group': 2, 'name': 'i12'}, {'group': 4, 'name': 'i13'}, {'group': 4, 'name': 'i14'}, {'group': 9, 'name': 'i15'}, {'group': 9, 'name': 'i16'}, {'group': 9, 'name': 'i17'}, {'group': 3, 'name': 'i18'}, {'group': 2, 'name': 'i19'}, {'group': 5, 'name': 'i20'}, {'group': 7, 'name': 'i21'}, {'group': 4, 'name': 'i22'}, {'group': 8, 'name': 'i23'}, {'group': 8, 'name': 'i24'}, {'group': 5, 'name': 'i25'}, {'group': 3, 'name': 'i26'}, {'group': 8, 'name': 'i27'}, {'group': 3, 'name': 'i28'}, {'group': 9, 'name': 'i29'}], 'links': [{'source': 2, 'target': 23, 'value': 0.9318864929134159}, {'source': 2, 'target': 27, 'value': 2.852059170559583}, {'source': 2, 'target': 29, 'value': 1.337150435780352}, {'source': 3, 'target': 20, 'value': 1.890256263836094}, {'source': 3, 'target': 21, 'value': 1.949252883171632}, {'source': 4, 'target': 6, 'value': 2.4554598462028405}, {'source': 4, 'target': 22, 'value': 1.623635904826831}, {'source': 4, 'target': 23, 'value': 1.0970316320186964}, {'source': 5, 'target': 0, 'value': 2.7355256834865065}, {'source': 5, 'target': 19, 'value': 2.8538899773920745}, {'source': 5, 'target': 24, 'value': 0.8731472420682236}, {'source': 7, 'target': 15, 'value': 2.8201163525766515}, {'source': 8, 'target': 4, 'value': 2.4804978905957826}, {'source': 8, 'target': 9, 'value': 1.354741314062062}, {'source': 8, 'target': 13, 'value': 2.387299638444806}, {'source': 8, 'target': 14, 'value': 2.065414024436513}, {'source': 9, 'target': 3, 'value': 1.6123204660855748}, {'source': 9, 'target': 23, 'value': 2.1012799598495855}, {'source': 9, 'target': 27, 'value': 0.5288503408340621}, {'source': 11, 'target': 8, 'value': 2.19106423697019}, {'source': 11, 'target': 15, 'value': 2.6213422156251256}, {'source': 11, 'target': 23, 'value': 1.020511546569662}, {'source': 12, 'target': 5, 'value': 2.3457306891409577}, {'source': 13, 'target': 14, 'value': 2.483519159806392}, {'source': 13, 'target': 21, 'value': 1.5653873328155672}, {'source': 14, 'target': 7, 'value': 0.9755938940504478}, {'source': 15, 'target': 1, 'value': 1.2411586954385083}, {'source': 15, 'target': 9, 'value': 2.2539776849969595}, {'source': 15, 'target': 16, 'value': 2.7309583396335944}, {'source': 15, 'target': 17, 'value': 2.6504539610078384}, {'source': 16, 'target': 2, 'value': 1.8522400638581653}, {'source': 16, 'target': 26, 'value': 2.1420380339692953}, {'source': 17, 'target': 16, 'value': 2.2945911004732342}, {'source': 17, 'target': 18, 'value': 2.196264125128871}, {'source': 20, 'target': 22, 'value': 2.1887605709232787}, {'source': 20, 'target': 28, 'value': 1.7613919623526684}, {'source': 21, 'target': 19, 'value': 1.9732886588083627}, {'source': 22, 'target': 10, 'value': 2.1305805574560095}, {'source': 22, 'target': 19, 'value': 0.5834409283923426}, {'source': 23, 'target': 27, 'value': 1.6785647296428516}, {'source': 24, 'target': 11, 'value': 2.630128742605889}, {'source': 25, 'target': 1, 'value': 1.3294166445228968}, {'source': 25, 'target': 6, 'value': 1.9025377025570829}, {'source': 25, 'target': 13, 'value': 2.5663739976777897}, {'source': 25, 'target': 19, 'value': 1.3148688085269304}, {'source': 25, 'target': 29, 'value': 1.9919524594290263}, {'source': 27, 'target': 12, 'value': 1.2774818509005101}, {'source': 27, 'target': 18, 'value': 0.5746290806302154}, {'source': 27, 'target': 20, 'value': 1.611367553018911}, {'source': 28, 'target': 1, 'value': 1.671122245351949}, {'source': 28, 'target': 4, 'value': 1.2958931067701487}, {'source': 29, 'target': 17, 'value': 1.3577175684609926}, {'source': 29, 'target': 22, 'value': 1.2282861322017578}]};\n",
       "           "
      ],
      "text/plain": [
       "<IPython.core.display.Javascript object>"
      ]
     },
     "execution_count": 8,
     "metadata": {},
     "output_type": "execute_result"
    }
   ],
   "source": [
    "from IPython.display import Javascript\n",
    "#runs arbitrary javascript, client-side\n",
    "Javascript(\"\"\"\n",
    "           window.graph={};\n",
    "           \"\"\".format(graph))"
   ]
  },
  {
   "cell_type": "code",
   "execution_count": 9,
   "metadata": {
    "collapsed": false
   },
   "outputs": [
    {
     "data": {
      "application/javascript": [
       "require(['d3'], function(d3){\n",
       "  //a weird idempotency thing\n",
       "  $(\"#chart1\").remove();\n",
       "  //create canvas\n",
       "  element.append(\"<div id='chart1'></div>\");\n",
       "  $(\"#chart1\").width(\"960px\");\n",
       "  $(\"#chart1\").height(\"600px\");        \n",
       "  var margin = {top: 20, right: 20, bottom: 30, left: 40};\n",
       "  var width = 880 - margin.left - margin.right;\n",
       "  var height = 500 - margin.top - margin.bottom;\n",
       "  var svg = d3.select(\"#chart1\").append(\"svg\")\n",
       "    .style(\"position\", \"relative\")\n",
       "    .style(\"max-width\", \"960px\")\n",
       "    .attr(\"width\", width + \"px\")\n",
       "    .attr(\"height\", (height + 50) + \"px\")\n",
       "    .append(\"g\")\n",
       "    .attr(\"transform\", \"translate(\" + margin.left + \",\" + margin.top + \")\");\n",
       "\n",
       "var color = d3.scale.category20();\n",
       "\n",
       "var force = d3.layout.force()\n",
       "    .charge(-300)\n",
       "    .linkDistance(50)\n",
       "    .size([width, height]);\n",
       "\n",
       "var graph = window.graph;\n",
       "\n",
       "  force\n",
       "      .nodes(graph.nodes)\n",
       "      .links(graph.links)\n",
       "      .start();\n",
       "\n",
       "  var link = svg.selectAll(\".link\")\n",
       "      .data(graph.links)\n",
       "      .enter().append(\"line\")\n",
       "      .attr(\"class\", \"link\")\n",
       "      .style(\"stroke\", \"#999;\")\n",
       "      .style(\"stroke-width\", function(d) { return Math.sqrt(d.value); });\n",
       "\n",
       "  var node = svg.selectAll(\".node\")\n",
       "      .data(graph.nodes)\n",
       "      .enter().append(\"g\")\n",
       "      .attr(\"class\", \"node\")\n",
       "      .call(force.drag);\n",
       "    \n",
       "  node.append(\"circle\")\n",
       "      .attr(\"class\", \"node_circle\")\n",
       "      .attr(\"r\", 8)\n",
       "      .style(\"fill\", function(d) { return color(d.group); });\n",
       "\n",
       "  node.append(\"text\")\n",
       "      .attr(\"class\", \"node_text\")\n",
       "      .attr(\"dx\", 12)\n",
       "      .attr(\"dy\", \".35em\")\n",
       "      .text(function(d) { return d.name });\n",
       "\n",
       "  node.append(\"title\")\n",
       "      .text(function(d) { return d.name; });\n",
       "\n",
       "  var node_text = svg.selectAll(\".node_text\");\n",
       "  var node_circle = svg.selectAll(\".node_circle\");\n",
       "    \n",
       "  force.on(\"tick\", function() {\n",
       "    link.attr(\"x1\", function(d) { return d.source.x; })\n",
       "        .attr(\"y1\", function(d) { return d.source.y; })\n",
       "        .attr(\"x2\", function(d) { return d.target.x; })\n",
       "        .attr(\"y2\", function(d) { return d.target.y; });\n",
       "\n",
       "    node_circle.attr(\"cx\", function(d) { return d.x; })\n",
       "        .attr(\"cy\", function(d) { return d.y; });\n",
       "      \n",
       "    node_text.attr(\"x\", function(d) { return d.x; })\n",
       "        .attr(\"y\", function(d) { return d.y; });\n",
       "  });\n",
       "\n",
       "\n",
       "});"
      ],
      "text/plain": [
       "<IPython.core.display.Javascript object>"
      ]
     },
     "metadata": {},
     "output_type": "display_data"
    }
   ],
   "source": [
    "%%javascript\n",
    "require(['d3'], function(d3){\n",
    "  //a weird idempotency thing\n",
    "  $(\"#chart1\").remove();\n",
    "  //create canvas\n",
    "  element.append(\"<div id='chart1'></div>\");\n",
    "  $(\"#chart1\").width(\"960px\");\n",
    "  $(\"#chart1\").height(\"600px\");        \n",
    "  var margin = {top: 20, right: 20, bottom: 30, left: 40};\n",
    "  var width = 880 - margin.left - margin.right;\n",
    "  var height = 500 - margin.top - margin.bottom;\n",
    "  var svg = d3.select(\"#chart1\").append(\"svg\")\n",
    "    .style(\"position\", \"relative\")\n",
    "    .style(\"max-width\", \"960px\")\n",
    "    .attr(\"width\", width + \"px\")\n",
    "    .attr(\"height\", (height + 50) + \"px\")\n",
    "    .append(\"g\")\n",
    "    .attr(\"transform\", \"translate(\" + margin.left + \",\" + margin.top + \")\");\n",
    "\n",
    "var color = d3.scale.category20();\n",
    "\n",
    "var force = d3.layout.force()\n",
    "    .charge(-300)\n",
    "    .linkDistance(50)\n",
    "    .size([width, height]);\n",
    "\n",
    "var graph = window.graph;\n",
    "\n",
    "  force\n",
    "      .nodes(graph.nodes)\n",
    "      .links(graph.links)\n",
    "      .start();\n",
    "\n",
    "  var link = svg.selectAll(\".link\")\n",
    "      .data(graph.links)\n",
    "      .enter().append(\"line\")\n",
    "      .attr(\"class\", \"link\")\n",
    "      .style(\"stroke\", \"#999;\")\n",
    "      .style(\"stroke-width\", function(d) { return Math.sqrt(d.value); });\n",
    "\n",
    "  var node = svg.selectAll(\".node\")\n",
    "      .data(graph.nodes)\n",
    "      .enter().append(\"g\")\n",
    "      .attr(\"class\", \"node\")\n",
    "      .call(force.drag);\n",
    "    \n",
    "  node.append(\"circle\")\n",
    "      .attr(\"class\", \"node_circle\")\n",
    "      .attr(\"r\", 8)\n",
    "      .style(\"fill\", function(d) { return color(d.group); });\n",
    "\n",
    "  node.append(\"text\")\n",
    "      .attr(\"class\", \"node_text\")\n",
    "      .attr(\"dx\", 12)\n",
    "      .attr(\"dy\", \".35em\")\n",
    "      .text(function(d) { return d.name });\n",
    "\n",
    "  node.append(\"title\")\n",
    "      .text(function(d) { return d.name; });\n",
    "\n",
    "  var node_text = svg.selectAll(\".node_text\");\n",
    "  var node_circle = svg.selectAll(\".node_circle\");\n",
    "    \n",
    "  force.on(\"tick\", function() {\n",
    "    link.attr(\"x1\", function(d) { return d.source.x; })\n",
    "        .attr(\"y1\", function(d) { return d.source.y; })\n",
    "        .attr(\"x2\", function(d) { return d.target.x; })\n",
    "        .attr(\"y2\", function(d) { return d.target.y; });\n",
    "\n",
    "    node_circle.attr(\"cx\", function(d) { return d.x; })\n",
    "        .attr(\"cy\", function(d) { return d.y; });\n",
    "      \n",
    "    node_text.attr(\"x\", function(d) { return d.x; })\n",
    "        .attr(\"y\", function(d) { return d.y; });\n",
    "  });\n",
    "\n",
    "\n",
    "});"
   ]
  },
  {
   "cell_type": "code",
   "execution_count": null,
   "metadata": {
    "collapsed": true
   },
   "outputs": [],
   "source": []
  }
 ],
 "metadata": {
  "kernelspec": {
   "display_name": "Python 2",
   "language": "python",
   "name": "python2"
  },
  "language_info": {
   "codemirror_mode": {
    "name": "ipython",
    "version": 2
   },
   "file_extension": ".py",
   "mimetype": "text/x-python",
   "name": "python",
   "nbconvert_exporter": "python",
   "pygments_lexer": "ipython2",
   "version": "2.7.11"
  }
 },
 "nbformat": 4,
 "nbformat_minor": 0
}
