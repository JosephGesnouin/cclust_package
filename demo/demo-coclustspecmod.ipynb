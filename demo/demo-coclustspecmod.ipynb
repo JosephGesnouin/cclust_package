{
 "cells": [
  {
   "cell_type": "code",
   "execution_count": 24,
   "metadata": {
    "collapsed": false
   },
   "outputs": [
    {
     "data": {
      "image/png": "[encoded data removed]",
      "text/plain": [
       "<matplotlib.figure.Figure at 0xeccb978>"
      ]
     },
     "metadata": {},
     "output_type": "display_data"
    }
   ],
   "source": [
    "%matplotlib inline\n",
    "import numpy as np, scipy.sparse as sp\n",
    "from scipy.sparse import coo_matrix\n",
    "from coclust.CoclustSpecMod import CoclustSpecMod\n",
    "import matplotlib.pyplot as plt\n",
    "\n",
    "n_clust=3\n",
    "file_name = \"../datasets/cstr.csv\"\n",
    "\n",
    "# Load the csv file and build the matrix. It may take a few seconds\n",
    "a=np.loadtxt(file_name,delimiter=',', skiprows=1)\n",
    "X=(coo_matrix((a[:,2], (a[:,0].astype(int),a[:,1].astype(int)) ) )).tocsr()\n",
    "\n",
    "# Perform co-clustering\n",
    "model = CoclustSpecMod(n_clusters=n_clust)\n",
    "model.fit(X)\n",
    "\n",
    "\n",
    "def plot_cluster_sizes(model) : \n",
    "  fig = plt.figure(figsize=(10,8))\n",
    "  ax = fig.add_subplot(111)\n",
    "  colors=['r','g','b']        \n",
    "  x=[] ; y=[]        \n",
    "  for i in range(n_clust):\n",
    "        number_of_rows, number_of_columns = model.get_shape(i)\n",
    "        x.append( number_of_rows)\n",
    "        y.append(number_of_columns)\n",
    "  data=[x,y]\n",
    "  shift=.8 / len(data*2)\n",
    "  location=np.arange(n_clust)\n",
    "  legend_rects=[]\n",
    "  for i in range(2) :\n",
    "     cols=ax.bar(location+i * shift , data[i] , width=shift, color=colors[i % len(colors)], align='center')\n",
    "     legend_rects.append(cols[0])\n",
    "     for c in cols :\n",
    "        h=c.get_height()\n",
    "        ax.text(c.get_x()+c.get_width()/2., 1.03*h, '%d'%int(h),\n",
    "                ha='center', va='bottom')\n",
    "  ax.set_xticks(location + (shift/2.))\n",
    "  ax.set_xticklabels(['coclust-' + str(i) for i in range(n_clust)])\n",
    "  plt.xlabel('Co-clusters')\n",
    "  plt.ylabel('Sizes')\n",
    "  ax.legend(legend_rects, ('Rows', 'Columns'))\n",
    "    \n",
    "\n",
    "plot_cluster_sizes(model)"
   ]
  },
  {
   "cell_type": "code",
   "execution_count": 3,
   "metadata": {
    "collapsed": true
   },
   "outputs": [],
   "source": [
    "plt."
   ]
  },
  {
   "cell_type": "code",
   "execution_count": null,
   "metadata": {
    "collapsed": true
   },
   "outputs": [],
   "source": [
    "# Evaluate\n",
    "predicted_row_labels = model.row_labels_\n",
    "import json\n",
    "with open(\"../datasets/classic3.labels\",'r') as f :\n",
    "        true_row_labels=np.array(json.load(f))\n",
    "# Use the computed and true row labels to compute the NMI\n",
    "#from sklearn.metrics.cluster import normalized_mutual_info_score as nmi\n",
    "#print(\"NMI:\", nmi(true_row_labels, predicted_row_labels))"
   ]
  }
 ],
 "metadata": {
  "kernelspec": {
   "display_name": "Python 3",
   "language": "python",
   "name": "python3"
  },
  "language_info": {
   "codemirror_mode": {
    "name": "ipython",
    "version": 3
   },
   "file_extension": ".py",
   "mimetype": "text/x-python",
   "name": "python",
   "nbconvert_exporter": "python",
   "pygments_lexer": "ipython3",
   "version": "3.4.4"
  }
 },
 "nbformat": 4,
 "nbformat_minor": 0
}
