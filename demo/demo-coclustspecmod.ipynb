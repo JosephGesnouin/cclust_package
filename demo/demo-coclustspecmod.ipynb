{
 "cells": [
  {
   "cell_type": "code",
   "execution_count": 4,
   "metadata": {
    "collapsed": false
   },
   "outputs": [
    {
     "name": "stdout",
     "output_type": "stream",
     "text": [
      "NMI: 0.913719371893\n",
      "Cluster 0 has 1525 rows and 1680 columns.\n",
      "Cluster 1 has 1399 rows and 1479 columns.\n",
      "Cluster 2 has 967 rows and 1144 columns.\n"
     ]
    }
   ],
   "source": [
    "import csv, numpy as np, scipy.sparse as sp\n",
    "from coclust.CoclustSpecMod import CoclustSpecMod\n",
    "    \n",
    "file_name = \"./classic3.csv\"\n",
    "csv_file = open(file_name, 'r')\n",
    "csv_reader = csv.reader(csv_file, delimiter=\",\")\n",
    "    \n",
    "for i, row in enumerate(csv_reader):\n",
    "        if i == 0 :\n",
    "            nb_row, nb_col = map(int,row)\n",
    "            X = sp.lil_matrix((nb_row, nb_col))\n",
    "        else:\n",
    "            i, j, v = map(int,row)\n",
    "            X[i, j] = v           \n",
    "model = CoclustSpecMod(n_clusters=3)\n",
    "model.fit(X)\n",
    "    \n",
    "predicted_row_labels = model.row_labels_\n",
    "import json\n",
    "with open(\"../datasets/classic3.labels\",'r') as f :\n",
    "        true_row_labels=np.array(json.load(f))\n",
    "# Use the computed and true row labels to compute the NMI\n",
    "from sklearn.metrics.cluster import normalized_mutual_info_score as nmi\n",
    "print(\"NMI:\", nmi(true_row_labels, predicted_row_labels))\n",
    "    \n",
    "for i in range(3):\n",
    "        number_of_rows, number_of_columns = model.get_shape(i)\n",
    "        print(\"Cluster\", i, \"has\", number_of_rows, \"rows and\", number_of_columns, \"columns.\")\n"
   ]
  }
 ],
 "metadata": {
  "kernelspec": {
   "display_name": "Python 3",
   "language": "python",
   "name": "python3"
  },
  "language_info": {
   "codemirror_mode": {
    "name": "ipython",
    "version": 3
   },
   "file_extension": ".py",
   "mimetype": "text/x-python",
   "name": "python",
   "nbconvert_exporter": "python",
   "pygments_lexer": "ipython3",
   "version": "3.4.3"
  }
 },
 "nbformat": 4,
 "nbformat_minor": 0
}
