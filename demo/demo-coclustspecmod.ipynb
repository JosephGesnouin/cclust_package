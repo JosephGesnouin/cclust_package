{
 "cells": [
  {
   "cell_type": "code",
   "execution_count": 2,
   "metadata": {
    "collapsed": false
   },
   "outputs": [
    {
     "name": "stdout",
     "output_type": "stream",
     "text": [
      "ERROR: The input data must be an numpy/scipy array or matrix.\n"
     ]
    },
    {
     "ename": "SystemExit",
     "evalue": "0",
     "output_type": "error",
     "traceback": [
      "An exception has occurred, use %tb to see the full traceback.\n",
      "\u001b[1;31mSystemExit\u001b[0m\u001b[1;31m:\u001b[0m 0\n"
     ]
    },
    {
     "name": "stderr",
     "output_type": "stream",
     "text": [
      "To exit: use 'exit', 'quit', or Ctrl-D.\n"
     ]
    }
   ],
   "source": [
    "import numpy as np, scipy.sparse as sp\n",
    "from scipy.sparse import coo_matrix\n",
    "from coclust.CoclustSpecMod import CoclustSpecMod\n",
    "    \n",
    "file_name = \"../datasets/classic3.csv\"\n",
    "\n",
    "# Load the csv file and build the matrix. It may take a few seconds\n",
    "a=np.loadtxt(file_name,delimiter=',', skiprows=1)\n",
    "X=(coo_matrix((a[:,2], (a[:,0].astype(int),a[:,1].astype(int)) ) )).tocsr()\n",
    "\n",
    "# Perform co-clustering\n",
    "model = CoclustSpecMod(n_clusters=3)\n",
    "model.fit(X)\n",
    "\n",
    "# Evaluate\n",
    "predicted_row_labels = model.row_labels_\n",
    "import json\n",
    "with open(\"../datasets/classic3.labels\",'r') as f :\n",
    "        true_row_labels=np.array(json.load(f))\n",
    "# Use the computed and true row labels to compute the NMI\n",
    "from sklearn.metrics.cluster import normalized_mutual_info_score as nmi\n",
    "print(\"NMI:\", nmi(true_row_labels, predicted_row_labels))\n",
    "    \n",
    "for i in range(3):\n",
    "        number_of_rows, number_of_columns = model.get_shape(i)\n",
    "        print(\"Cluster\", i, \"has\", number_of_rows, \"rows and\", number_of_columns, \"columns.\")"
   ]
  },
  {
   "cell_type": "code",
   "execution_count": null,
   "metadata": {
    "collapsed": true
   },
   "outputs": [],
   "source": []
  }
 ],
 "metadata": {
  "kernelspec": {
   "display_name": "Python 3",
   "language": "python",
   "name": "python3"
  },
  "language_info": {
   "codemirror_mode": {
    "name": "ipython",
    "version": 3
   },
   "file_extension": ".py",
   "mimetype": "text/x-python",
   "name": "python",
   "nbconvert_exporter": "python",
   "pygments_lexer": "ipython3",
   "version": "3.4.4"
  }
 },
 "nbformat": 4,
 "nbformat_minor": 0
}
